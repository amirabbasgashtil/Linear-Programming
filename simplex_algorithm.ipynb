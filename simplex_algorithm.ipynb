{
  "nbformat": 4,
  "nbformat_minor": 0,
  "metadata": {
    "colab": {
      "provenance": [],
      "authorship_tag": "ABX9TyMTMNQHHX7f1+vHiAv0ByqR",
      "include_colab_link": true
    },
    "kernelspec": {
      "name": "python3",
      "display_name": "Python 3"
    },
    "language_info": {
      "name": "python"
    }
  },
  "cells": [
    {
      "cell_type": "markdown",
      "metadata": {
        "id": "view-in-github",
        "colab_type": "text"
      },
      "source": [
        "<a href=\"https://colab.research.google.com/github/amirabbasgashtil/Linear-Programming/blob/main/simplex_algorithm.ipynb\" target=\"_parent\"><img src=\"https://colab.research.google.com/assets/colab-badge.svg\" alt=\"Open In Colab\"/></a>"
      ]
    },
    {
      "cell_type": "markdown",
      "source": [
        "# Simplex algorithm for optimizing a characteristic function"
      ],
      "metadata": {
        "id": "Ld4xsQlFcEJF"
      }
    },
    {
      "cell_type": "markdown",
      "source": [
        "# first we have to input characteristic function and constraints"
      ],
      "metadata": {
        "id": "YPuIWXq5CHk1"
      }
    },
    {
      "cell_type": "code",
      "source": [
        "z = []\n",
        "z =[int(item) for item in input('Enter coeficiant of characteristic function : ').split()]\n",
        "print(z)"
      ],
      "metadata": {
        "id": "6uPHaCHqcjfd",
        "colab": {
          "base_uri": "https://localhost:8080/"
        },
        "outputId": "b01106b0-56d4-4e91-ad76-3aaa1155a50c"
      },
      "execution_count": 124,
      "outputs": [
        {
          "output_type": "stream",
          "name": "stdout",
          "text": [
            "Enter coeficiant of characteristic function : 5 2 3 -1 1\n",
            "[5, 2, 3, -1, 1]\n"
          ]
        }
      ]
    },
    {
      "cell_type": "code",
      "source": [
        "m = input('Enter the type of problem: (min or max) : ')"
      ],
      "metadata": {
        "colab": {
          "base_uri": "https://localhost:8080/"
        },
        "id": "AMQCJDJ1C7Mr",
        "outputId": "63ced42e-31d6-4a2b-bca5-097b9bcae249"
      },
      "execution_count": 125,
      "outputs": [
        {
          "name": "stdout",
          "output_type": "stream",
          "text": [
            "Enter the type of problem: (min or max) : min\n"
          ]
        }
      ]
    },
    {
      "cell_type": "code",
      "source": [
        "number_of_constraints = int(input('Enter the number of constraints: '))"
      ],
      "metadata": {
        "colab": {
          "base_uri": "https://localhost:8080/"
        },
        "id": "qzXIFNoIE_eI",
        "outputId": "0f648253-eb88-401a-d424-70a6f6e8ffce"
      },
      "execution_count": 126,
      "outputs": [
        {
          "name": "stdout",
          "output_type": "stream",
          "text": [
            "Enter the number of constraints: 2\n"
          ]
        }
      ]
    },
    {
      "cell_type": "code",
      "source": [
        "A = [[int(input('Enter coeficiant of x{} in constraint{} : '.format(i+1, c+1))) for i in range(len(z))] for c in range(number_of_constraints)]"
      ],
      "metadata": {
        "colab": {
          "base_uri": "https://localhost:8080/"
        },
        "id": "jsAuiLEWMIeD",
        "outputId": "f37b844f-9694-460b-c2e0-d800a7a846d4"
      },
      "execution_count": 127,
      "outputs": [
        {
          "name": "stdout",
          "output_type": "stream",
          "text": [
            "Enter coeficiant of x1 in constraint1 : 1\n",
            "Enter coeficiant of x2 in constraint1 : 2\n",
            "Enter coeficiant of x3 in constraint1 : 2\n",
            "Enter coeficiant of x4 in constraint1 : 1\n",
            "Enter coeficiant of x5 in constraint1 : 0\n",
            "Enter coeficiant of x1 in constraint2 : 3\n",
            "Enter coeficiant of x2 in constraint2 : 4\n",
            "Enter coeficiant of x3 in constraint2 : 1\n",
            "Enter coeficiant of x4 in constraint2 : 0\n",
            "Enter coeficiant of x5 in constraint2 : 1\n"
          ]
        }
      ]
    },
    {
      "cell_type": "code",
      "source": [
        "Draws = [input('Enter the Draw of constraint{} : '.format(i+1)) for i in range(number_of_constraints)]"
      ],
      "metadata": {
        "colab": {
          "base_uri": "https://localhost:8080/"
        },
        "id": "6E-nMDLEFYbv",
        "outputId": "4de51298-2f3c-40a5-bb00-0315a5cab9e1"
      },
      "execution_count": 128,
      "outputs": [
        {
          "name": "stdout",
          "output_type": "stream",
          "text": [
            "Enter the Draw of constraint1 : =\n",
            "Enter the Draw of constraint2 : =\n"
          ]
        }
      ]
    },
    {
      "cell_type": "code",
      "source": [
        "RHS = [int(input('Enter Right Hand Side in constraint{} : '.format(i+1))) for i in range(number_of_constraints)]"
      ],
      "metadata": {
        "colab": {
          "base_uri": "https://localhost:8080/"
        },
        "id": "Ezgcwa1cFpkm",
        "outputId": "91154841-2c0e-4979-ea1b-1808398ad4af"
      },
      "execution_count": 129,
      "outputs": [
        {
          "name": "stdout",
          "output_type": "stream",
          "text": [
            "Enter Right Hand Side in constraint1 : 8\n",
            "Enter Right Hand Side in constraint2 : 7\n"
          ]
        }
      ]
    },
    {
      "cell_type": "code",
      "source": [
        "sign_of_variables = [input('Enter the sign of x{} : (>= / <= / free) '.format(i+1)) for i in range(len(z))]"
      ],
      "metadata": {
        "colab": {
          "base_uri": "https://localhost:8080/"
        },
        "id": "le-CkNNAIU80",
        "outputId": "d272ba08-89fe-4a69-c5f0-e16ac5f87bda"
      },
      "execution_count": 130,
      "outputs": [
        {
          "name": "stdout",
          "output_type": "stream",
          "text": [
            "Enter the sign of x1 : (>= / <= / free) >=\n",
            "Enter the sign of x2 : (>= / <= / free) >=\n",
            "Enter the sign of x3 : (>= / <= / free) >=\n",
            "Enter the sign of x4 : (>= / <= / free) >=\n",
            "Enter the sign of x5 : (>= / <= / free) >=\n"
          ]
        }
      ]
    },
    {
      "cell_type": "markdown",
      "source": [
        "# Now lets convert form of problem to its standard form"
      ],
      "metadata": {
        "id": "AKW0gknZNeml"
      }
    },
    {
      "cell_type": "markdown",
      "source": [
        "1. convert all of constraints to =\n",
        "2. for all x in characteristic function =>  x>=0"
      ],
      "metadata": {
        "id": "Q5J3MhLzN2ib"
      }
    },
    {
      "cell_type": "markdown",
      "source": [
        "1)"
      ],
      "metadata": {
        "id": "qaGJFahyUshz"
      }
    },
    {
      "cell_type": "code",
      "source": [
        "for i in range(len(Draws)):\n",
        "\n",
        "  if Draws[i] == \">=\":\n",
        "    # we have to add a (-1 * x_n+1) in that constraint and in characteristic function with 0 coeficiant\n",
        "    z.append(0)\n",
        "    for j in range(number_of_constraints):\n",
        "      if i == j:\n",
        "        A[j].append(-1)\n",
        "      else:\n",
        "        A[j].append(0)\n",
        "\n",
        "  elif Draws[i] == \"<=\":\n",
        "    # we have to add a (1 * x_n+1) in that constraint and in characteristic function with 0 coeficiant\n",
        "    z.append(0)\n",
        "    for j in range(number_of_constraints):\n",
        "      if i == j:\n",
        "        A[i].append(1)\n",
        "      else:\n",
        "        A[i].append(0)\n",
        "\n",
        "print(A)\n",
        "print(z)"
      ],
      "metadata": {
        "colab": {
          "base_uri": "https://localhost:8080/"
        },
        "id": "Q6H_UtVSL3jB",
        "outputId": "ad66ebda-de65-40f4-b9f3-57f35b877286"
      },
      "execution_count": 131,
      "outputs": [
        {
          "output_type": "stream",
          "name": "stdout",
          "text": [
            "[[1, 2, 2, 1, 0], [3, 4, 1, 0, 1]]\n",
            "[5, 2, 3, -1, 1]\n"
          ]
        }
      ]
    },
    {
      "cell_type": "markdown",
      "source": [
        "2)"
      ],
      "metadata": {
        "id": "FIqrBAY_Uwy-"
      }
    },
    {
      "cell_type": "code",
      "source": [
        "for i in range(len(sign_of_variables)):\n",
        "  if sign_of_variables[i] == 'free':\n",
        "    z.insert(i+1, -1 * z[i])\n",
        "    for j in range(number_of_constraints):\n",
        "        A[j].insert(i+1, -1 * A[j][i])\n",
        "  elif sign_of_variables[i] == '<=':\n",
        "    z[i] = -1 * z[i]\n",
        "    for j in range(number_of_constraints):\n",
        "      A[j][i] = -1 * A[j][i]\n",
        "\n",
        "print(z)\n",
        "print(A)"
      ],
      "metadata": {
        "colab": {
          "base_uri": "https://localhost:8080/"
        },
        "id": "Uk826KuyUyHw",
        "outputId": "eac46403-e9ac-416b-f95f-bc062d52a85e"
      },
      "execution_count": 132,
      "outputs": [
        {
          "output_type": "stream",
          "name": "stdout",
          "text": [
            "[5, 2, 3, -1, 1]\n",
            "[[1, 2, 2, 1, 0], [3, 4, 1, 0, 1]]\n"
          ]
        }
      ]
    },
    {
      "cell_type": "code",
      "source": [
        "'''\n",
        "    now we have an standard optimization problem\n",
        "    lets print the standard form and then solve it by simplex algorithm\n",
        "'''\n",
        "print(m, end=\"  \")\n",
        "print('z = ', end=\"\")\n",
        "for i in range(len(z)):\n",
        "  print(str(z[i]) + 'x.{}'.format(i+1), end=\" \")\n",
        "print()\n",
        "print('subject to : ')\n",
        "for i in range(number_of_constraints):\n",
        "  for j in range(len(z)):\n",
        "    print(str(A[i][j]) + '.x{}'.format(j+1), end=\" \")\n",
        "  print('=', end=\" \")\n",
        "  print(RHS[i])\n",
        "\n",
        "for i in range(len(z)):\n",
        "  print('x.{}'.format(i+1), end=\" \")\n",
        "print('>= 0')"
      ],
      "metadata": {
        "colab": {
          "base_uri": "https://localhost:8080/"
        },
        "id": "euHIZa1F4SJa",
        "outputId": "08e42886-a86e-4b3c-e365-8ea50b97ec7c"
      },
      "execution_count": 133,
      "outputs": [
        {
          "output_type": "stream",
          "name": "stdout",
          "text": [
            "min  z = 5x.1 2x.2 3x.3 -1x.4 1x.5 \n",
            "subject to : \n",
            "1.x1 2.x2 2.x3 1.x4 0.x5 = 8\n",
            "3.x1 4.x2 1.x3 0.x4 1.x5 = 7\n",
            "x.1 x.2 x.3 x.4 x.5 >= 0\n"
          ]
        }
      ]
    },
    {
      "cell_type": "markdown",
      "source": [
        "# simplex method for optimization"
      ],
      "metadata": {
        "id": "N7_cwAw0DQmO"
      }
    },
    {
      "cell_type": "markdown",
      "source": [
        "first we have to know our problem got the answer with regular simplex method or needs to another simplex method"
      ],
      "metadata": {
        "id": "rKrbDeJtPJjm"
      }
    },
    {
      "cell_type": "code",
      "source": [
        "def reg_simplex(A_simplex, z, number_of_constraints):\n",
        "  counter = 0\n",
        "  base_counter = 0\n",
        "  status = False\n",
        "  for i in range(number_of_constraints):\n",
        "    for j in range(len(z)):\n",
        "      if A_simplex[i][j] == 1:\n",
        "        for k in range(number_of_constraints):\n",
        "          if k != i:\n",
        "            if A_simplex[k][j] != 0:\n",
        "              status = False\n",
        "            else:\n",
        "              counter += 1\n",
        "        if counter == number_of_constraints - 1:\n",
        "          base_counter += 1\n",
        "  if base_counter == number_of_constraints:\n",
        "    return True\n",
        "  else:\n",
        "    return False"
      ],
      "metadata": {
        "id": "nHWqM8PSP5lX"
      },
      "execution_count": 134,
      "outputs": []
    },
    {
      "cell_type": "code",
      "source": [
        "def first_x_b(x_b,number_of_constraints, z, A_simplex):\n",
        "  counter = 0\n",
        "  for i in range(number_of_constraints):\n",
        "    for j in range(len(z)):\n",
        "      if A_simplex[i][j] == 1:\n",
        "        for k in range(number_of_constraints):\n",
        "          if k != i and A_simplex[k][j] == 0:\n",
        "            counter += 1\n",
        "        if counter == number_of_constraints - 1:\n",
        "          x_b.append(j)\n",
        "        counter = 0\n",
        "  return x_b"
      ],
      "metadata": {
        "id": "WBhhnZwxVYYm"
      },
      "execution_count": 135,
      "outputs": []
    },
    {
      "cell_type": "code",
      "source": [
        "def first_c_b(c_b, x_b, z):\n",
        "  for i in range(len(x_b)):\n",
        "    c_b.append(z[x_b[i]])\n",
        "  return"
      ],
      "metadata": {
        "id": "9EYLvcV0XnPS"
      },
      "execution_count": 136,
      "outputs": []
    },
    {
      "cell_type": "code",
      "source": [
        "def first_c_bar(c_bar, c_b, A_simplex):\n",
        "  for i in range(len(c_bar)):\n",
        "    for j in range(len(c_b)):\n",
        "      c_bar[i] -= A_simplex[j][i] * c_b[j]\n",
        "  return"
      ],
      "metadata": {
        "id": "IuwUcbwgYwy0"
      },
      "execution_count": 137,
      "outputs": []
    },
    {
      "cell_type": "code",
      "source": [
        "def first_z(c_b, sim_RHS):\n",
        "  z_val = 0\n",
        "  for i in range(len(c_b)):\n",
        "    z_val += c_b[i] * sim_RHS[i]\n",
        "  return z_val"
      ],
      "metadata": {
        "id": "k8G2_BKgcER6"
      },
      "execution_count": 138,
      "outputs": []
    },
    {
      "cell_type": "code",
      "source": [
        "def check_for_improve(c_bar, x_b):\n",
        "  if m == 'min':\n",
        "    for i in range(len(c_bar)):\n",
        "      if i != x_b and c_bar[i] <= 0:\n",
        "        return True\n",
        "    return False\n",
        "\n",
        "  else:\n",
        "    for i in range(len(c_bar)):\n",
        "      if i != x_b and c_bar[i] >= 0:\n",
        "        return True\n",
        "    return False"
      ],
      "metadata": {
        "id": "Pgba7GY3tP9m"
      },
      "execution_count": 139,
      "outputs": []
    },
    {
      "cell_type": "code",
      "source": [
        "def minimum_test(add_to_cb, A_simplex, sim_RHS):\n",
        "  candidates = []\n",
        "  for i in range(len(sim_RHS)):\n",
        "    if A_simplex[i][add_to_cb] <= 0:\n",
        "      candidates.append(1000)\n",
        "    else:\n",
        "      candidates.append(sim_RHS[i]/A_simplex[i][add_to_cb])\n",
        "    temp = min(candidates)\n",
        "    for i in range(len(candidates)):\n",
        "      if candidates[i] == temp:\n",
        "        return i"
      ],
      "metadata": {
        "id": "TkhYSo5JvILV"
      },
      "execution_count": 140,
      "outputs": []
    },
    {
      "cell_type": "code",
      "source": [
        "def row_reduction(A_simplex, c_bar, i, j, sim_RHS):\n",
        "  for k in range(len(c_bar)):\n",
        "    A_simplex[j][k] = A_simplex[j][k] / A_simplex[j][i]\n",
        "  sim_RHS[j] = sim_RHS[j] / A_simplex[j][i]\n",
        "  for k in range(len(sim_RHS)):\n",
        "    for t in range(len(c_bar)):\n",
        "      if k != j:\n",
        "        A_simplex[k][t] = (A_simplex[k][t] * A_simplex[j][t]) - A_simplex[k][t]\n",
        "    sim_RHS[k] = (sim_RHS[k] * sim_RHS[j]) - sim_RHS[k]\n",
        "  return"
      ],
      "metadata": {
        "id": "cCeqfTHZxhpw"
      },
      "execution_count": 141,
      "outputs": []
    },
    {
      "cell_type": "code",
      "source": [
        "def new_c_bar(c_bar, z, c_b, A_simplex):\n",
        "  for i in range(len(z)):\n",
        "    c_bar[i] = z[i]\n",
        "    for j in range(len(c_b)):\n",
        "      c_bar[i] -= c_b[j] * A_simplex[j][i]\n",
        "  return"
      ],
      "metadata": {
        "id": "jdjYW5nE0XMo"
      },
      "execution_count": 142,
      "outputs": []
    },
    {
      "cell_type": "code",
      "source": [
        "def new_z(z_value, c_b, sim_RHS):\n",
        "  z_value = 0\n",
        "  for i in range(len(c_b)):\n",
        "    z_value += c_b[i] * sim_RHS[i]\n",
        "  return"
      ],
      "metadata": {
        "id": "JWdwxp9L1QcS"
      },
      "execution_count": 143,
      "outputs": []
    },
    {
      "cell_type": "code",
      "source": [
        "def tableau(z, c_b, x_b, A_simplex, sim_RHS, c_bar, z_value):\n",
        "  return"
      ],
      "metadata": {
        "id": "OwK3iiT915rL"
      },
      "execution_count": 144,
      "outputs": []
    },
    {
      "cell_type": "code",
      "source": [
        "def improve(c_b, x_b, z, c_bar, A_simplex, sim_RHS, z_value):\n",
        "  if m == 'min':\n",
        "    add_to_cb = min(c_bar)\n",
        "    for i in range(len(c_bar)):\n",
        "      if c_bar[i] == add_to_cb:\n",
        "        add_to_cb = i\n",
        "        break\n",
        "    j = minimum_test(add_to_cb, A_simplex, sim_RHS)\n",
        "    x_b[j] = i\n",
        "    c_b[j] = z[i]\n",
        "    row_reduction(A_simplex, c_bar, i, j, sim_RHS)\n",
        "    new_c_bar(c_bar, z, c_b, A_simplex)\n",
        "    new_z(z_value, c_b, sim_RHS)\n",
        "\n",
        "    tableau(z, c_b, x_b, A_simplex, sim_RHS, c_bar, z_value)\n",
        "  return"
      ],
      "metadata": {
        "id": "MWhZVYDfuJR0"
      },
      "execution_count": 145,
      "outputs": []
    },
    {
      "cell_type": "code",
      "source": [
        "def simplex(A_simplex,number_of_constraints, z, RHS):\n",
        "  # first values:\n",
        "  c_b = []\n",
        "  x_b = []\n",
        "  sim_RHS = RHS\n",
        "  c_bar = z\n",
        "\n",
        "  first_x_b(x_b, number_of_constraints, z, A_simplex)\n",
        "  first_c_b(c_b, x_b, z)\n",
        "  first_c_bar(c_bar, c_b, A_simplex)\n",
        "  z_value = first_z(c_b, sim_RHS)\n",
        "\n",
        "  # try to improve\n",
        "  while(check_for_improve(c_bar, x_b)):\n",
        "    improve(c_b, x_b, z, c_bar, A_simplex, sim_RHS, z_value)\n",
        "  return"
      ],
      "metadata": {
        "id": "n5AK32y6UQEr"
      },
      "execution_count": 149,
      "outputs": []
    },
    {
      "cell_type": "code",
      "source": [
        "def bigM_simplex():\n",
        "  return"
      ],
      "metadata": {
        "id": "uizIZ23AUdAx"
      },
      "execution_count": 147,
      "outputs": []
    },
    {
      "cell_type": "code",
      "source": [
        "A_simplex = A\n",
        "if reg_simplex(A_simplex, z, number_of_constraints):\n",
        "  simplex(A_simplex, number_of_constraints, z, RHS)\n",
        "else:\n",
        "  bigM_simplex()"
      ],
      "metadata": {
        "id": "0MPMTdoXPtr3"
      },
      "execution_count": 151,
      "outputs": []
    },
    {
      "cell_type": "code",
      "source": [],
      "metadata": {
        "id": "orIyzUc65ttU"
      },
      "execution_count": null,
      "outputs": []
    }
  ]
}