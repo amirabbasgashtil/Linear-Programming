{
  "nbformat": 4,
  "nbformat_minor": 0,
  "metadata": {
    "colab": {
      "provenance": [],
      "authorship_tag": "ABX9TyOrIdyJHGg0/bnm5FWbnIEq",
      "include_colab_link": true
    },
    "kernelspec": {
      "name": "python3",
      "display_name": "Python 3"
    },
    "language_info": {
      "name": "python"
    }
  },
  "cells": [
    {
      "cell_type": "markdown",
      "metadata": {
        "id": "view-in-github",
        "colab_type": "text"
      },
      "source": [
        "<a href=\"https://colab.research.google.com/github/amirabbasgashtil/Linear-Programming/blob/main/simplex_algorithm.ipynb\" target=\"_parent\"><img src=\"https://colab.research.google.com/assets/colab-badge.svg\" alt=\"Open In Colab\"/></a>"
      ]
    },
    {
      "cell_type": "markdown",
      "source": [
        "# Simplex algorithm for optimizing a characteristic function"
      ],
      "metadata": {
        "id": "Ld4xsQlFcEJF"
      }
    },
    {
      "cell_type": "markdown",
      "source": [
        "# first we have to input characteristic function and constraints"
      ],
      "metadata": {
        "id": "YPuIWXq5CHk1"
      }
    },
    {
      "cell_type": "code",
      "source": [
        "z = []\n",
        "z =[int(item) for item in input('Enter coeficiant of characteristic function : ').split()]\n",
        "print(z)"
      ],
      "metadata": {
        "id": "6uPHaCHqcjfd",
        "colab": {
          "base_uri": "https://localhost:8080/"
        },
        "outputId": "6efbb90c-636d-499e-fea5-a19fadb60f26"
      },
      "execution_count": 129,
      "outputs": [
        {
          "output_type": "stream",
          "name": "stdout",
          "text": [
            "Enter coeficiant of characteristic function : 5 2 3 -1 1\n",
            "[5, 2, 3, -1, 1]\n"
          ]
        }
      ]
    },
    {
      "cell_type": "code",
      "source": [
        "m = input('Enter the type of problem: (min or max) : ')"
      ],
      "metadata": {
        "id": "AMQCJDJ1C7Mr",
        "colab": {
          "base_uri": "https://localhost:8080/"
        },
        "outputId": "ea04692a-7dba-4836-e050-e4e0a00159a3"
      },
      "execution_count": 130,
      "outputs": [
        {
          "name": "stdout",
          "output_type": "stream",
          "text": [
            "Enter the type of problem: (min or max) : max\n"
          ]
        }
      ]
    },
    {
      "cell_type": "code",
      "source": [
        "number_of_constraints = int(input('Enter the number of constraints: '))"
      ],
      "metadata": {
        "id": "qzXIFNoIE_eI",
        "colab": {
          "base_uri": "https://localhost:8080/"
        },
        "outputId": "bd8a77ef-cda7-442a-a702-2fed9aca8906"
      },
      "execution_count": 131,
      "outputs": [
        {
          "name": "stdout",
          "output_type": "stream",
          "text": [
            "Enter the number of constraints: 2\n"
          ]
        }
      ]
    },
    {
      "cell_type": "code",
      "source": [
        "A = [[int(input('Enter coeficiant of x{} in constraint{} : '.format(i+1, c+1))) for i in range(len(z))] for c in range(number_of_constraints)]"
      ],
      "metadata": {
        "id": "jsAuiLEWMIeD",
        "colab": {
          "base_uri": "https://localhost:8080/"
        },
        "outputId": "8ec507f1-011c-4877-fc96-97d29528e8b7"
      },
      "execution_count": 132,
      "outputs": [
        {
          "name": "stdout",
          "output_type": "stream",
          "text": [
            "Enter coeficiant of x1 in constraint1 : 1\n",
            "Enter coeficiant of x2 in constraint1 : 2\n",
            "Enter coeficiant of x3 in constraint1 : 2\n",
            "Enter coeficiant of x4 in constraint1 : 1\n",
            "Enter coeficiant of x5 in constraint1 : 0\n",
            "Enter coeficiant of x1 in constraint2 : 3\n",
            "Enter coeficiant of x2 in constraint2 : 4\n",
            "Enter coeficiant of x3 in constraint2 : 1\n",
            "Enter coeficiant of x4 in constraint2 : 0\n",
            "Enter coeficiant of x5 in constraint2 : 1\n"
          ]
        }
      ]
    },
    {
      "cell_type": "code",
      "source": [
        "Draws = [input('Enter the Draw of constraint{} : '.format(i+1)) for i in range(number_of_constraints)]"
      ],
      "metadata": {
        "id": "6E-nMDLEFYbv",
        "colab": {
          "base_uri": "https://localhost:8080/"
        },
        "outputId": "98466ed6-447f-458a-9b58-eb1de5a32389"
      },
      "execution_count": 133,
      "outputs": [
        {
          "name": "stdout",
          "output_type": "stream",
          "text": [
            "Enter the Draw of constraint1 : =\n",
            "Enter the Draw of constraint2 : =\n"
          ]
        }
      ]
    },
    {
      "cell_type": "code",
      "source": [
        "RHS = [int(input('Enter Right Hand Side in constraint{} : '.format(i+1))) for i in range(number_of_constraints)]"
      ],
      "metadata": {
        "id": "Ezgcwa1cFpkm",
        "colab": {
          "base_uri": "https://localhost:8080/"
        },
        "outputId": "80325bf5-19c6-43fa-d03d-f53a18981b63"
      },
      "execution_count": 134,
      "outputs": [
        {
          "name": "stdout",
          "output_type": "stream",
          "text": [
            "Enter Right Hand Side in constraint1 : 8\n",
            "Enter Right Hand Side in constraint2 : 7\n"
          ]
        }
      ]
    },
    {
      "cell_type": "code",
      "source": [
        "sign_of_variables = [input('Enter the sign of x{} : (>= / <= / free) '.format(i+1)) for i in range(len(z))]"
      ],
      "metadata": {
        "id": "le-CkNNAIU80",
        "colab": {
          "base_uri": "https://localhost:8080/"
        },
        "outputId": "ff39923d-e46a-4339-d1f6-02590bc5ffec"
      },
      "execution_count": 135,
      "outputs": [
        {
          "name": "stdout",
          "output_type": "stream",
          "text": [
            "Enter the sign of x1 : (>= / <= / free) >=\n",
            "Enter the sign of x2 : (>= / <= / free) >=\n",
            "Enter the sign of x3 : (>= / <= / free) >=\n",
            "Enter the sign of x4 : (>= / <= / free) >=\n",
            "Enter the sign of x5 : (>= / <= / free) >=\n"
          ]
        }
      ]
    },
    {
      "cell_type": "markdown",
      "source": [
        "# Now lets convert form of problem to its standard form"
      ],
      "metadata": {
        "id": "AKW0gknZNeml"
      }
    },
    {
      "cell_type": "markdown",
      "source": [
        "1. convert all of constraints to =\n",
        "2. for all x in characteristic function =>  x>=0"
      ],
      "metadata": {
        "id": "Q5J3MhLzN2ib"
      }
    },
    {
      "cell_type": "markdown",
      "source": [
        "1)"
      ],
      "metadata": {
        "id": "qaGJFahyUshz"
      }
    },
    {
      "cell_type": "code",
      "source": [
        "for i in range(len(Draws)):\n",
        "\n",
        "  if Draws[i] == \">=\":\n",
        "    # we have to add a (-1 * x_n+1) in that constraint and in characteristic function with 0 coeficiant\n",
        "    z.append(0)\n",
        "    for j in range(number_of_constraints):\n",
        "      if i == j:\n",
        "        A[j].append(-1)\n",
        "      else:\n",
        "        A[j].append(0)\n",
        "\n",
        "  elif Draws[i] == \"<=\":\n",
        "    # we have to add a (1 * x_n+1) in that constraint and in characteristic function with 0 coeficiant\n",
        "    z.append(0)\n",
        "    for j in range(number_of_constraints):\n",
        "      if i == j:\n",
        "        A[i].append(1)\n",
        "      else:\n",
        "        A[i].append(0)\n",
        "\n",
        "print(A)\n",
        "print(z)"
      ],
      "metadata": {
        "id": "Q6H_UtVSL3jB",
        "colab": {
          "base_uri": "https://localhost:8080/"
        },
        "outputId": "a014a72b-68d9-4b67-a3b9-296fe6b50fc0"
      },
      "execution_count": 136,
      "outputs": [
        {
          "output_type": "stream",
          "name": "stdout",
          "text": [
            "[[1, 2, 2, 1, 0], [3, 4, 1, 0, 1]]\n",
            "[5, 2, 3, -1, 1]\n"
          ]
        }
      ]
    },
    {
      "cell_type": "markdown",
      "source": [
        "2)"
      ],
      "metadata": {
        "id": "FIqrBAY_Uwy-"
      }
    },
    {
      "cell_type": "code",
      "source": [
        "for i in range(len(sign_of_variables)):\n",
        "  if sign_of_variables[i] == 'free':\n",
        "    z.insert(i+1, -1 * z[i])\n",
        "    for j in range(number_of_constraints):\n",
        "        A[j].insert(i+1, -1 * A[j][i])\n",
        "  elif sign_of_variables[i] == '<=':\n",
        "    z[i] = -1 * z[i]\n",
        "    for j in range(number_of_constraints):\n",
        "      A[j][i] = -1 * A[j][i]\n",
        "\n",
        "print(z)\n",
        "print(A)"
      ],
      "metadata": {
        "id": "Uk826KuyUyHw",
        "colab": {
          "base_uri": "https://localhost:8080/"
        },
        "outputId": "f836baee-514d-46f7-dede-96b3d3c6c702"
      },
      "execution_count": 137,
      "outputs": [
        {
          "output_type": "stream",
          "name": "stdout",
          "text": [
            "[5, 2, 3, -1, 1]\n",
            "[[1, 2, 2, 1, 0], [3, 4, 1, 0, 1]]\n"
          ]
        }
      ]
    },
    {
      "cell_type": "code",
      "source": [
        "'''\n",
        "    now we have an standard optimization problem\n",
        "    lets print the standard form and then solve it by simplex algorithm\n",
        "'''\n",
        "print(m, end=\"  \")\n",
        "print('z = ', end=\"\")\n",
        "for i in range(len(z)):\n",
        "  print(str(z[i]) + 'x.{}'.format(i+1), end=\" \")\n",
        "print()\n",
        "print('subject to : ')\n",
        "for i in range(number_of_constraints):\n",
        "  for j in range(len(z)):\n",
        "    print(str(A[i][j]) + '.x{}'.format(j+1), end=\" \")\n",
        "  print('=', end=\" \")\n",
        "  print(RHS[i])\n",
        "\n",
        "for i in range(len(z)):\n",
        "  print('x.{}'.format(i+1), end=\" \")\n",
        "print('>= 0')"
      ],
      "metadata": {
        "id": "euHIZa1F4SJa",
        "colab": {
          "base_uri": "https://localhost:8080/"
        },
        "outputId": "aba2e7b5-70aa-4d37-8169-c147d083caec"
      },
      "execution_count": 138,
      "outputs": [
        {
          "output_type": "stream",
          "name": "stdout",
          "text": [
            "max  z = 5x.1 2x.2 3x.3 -1x.4 1x.5 \n",
            "subject to : \n",
            "1.x1 2.x2 2.x3 1.x4 0.x5 = 8\n",
            "3.x1 4.x2 1.x3 0.x4 1.x5 = 7\n",
            "x.1 x.2 x.3 x.4 x.5 >= 0\n"
          ]
        }
      ]
    },
    {
      "cell_type": "markdown",
      "source": [
        "# simplex method for optimization"
      ],
      "metadata": {
        "id": "N7_cwAw0DQmO"
      }
    },
    {
      "cell_type": "markdown",
      "source": [
        "first we have to know our problem got the answer with regular simplex method or needs to another simplex method"
      ],
      "metadata": {
        "id": "rKrbDeJtPJjm"
      }
    },
    {
      "cell_type": "code",
      "source": [
        "def reg_simplex(A_simplex, z, number_of_constraints):\n",
        "  counter = 0\n",
        "  base_counter = 0\n",
        "  status = False\n",
        "  for i in range(number_of_constraints):\n",
        "    for j in range(len(z)):\n",
        "      if A_simplex[i][j] == 1:\n",
        "        for k in range(number_of_constraints):\n",
        "          if k != i:\n",
        "            if A_simplex[k][j] != 0:\n",
        "              status = False\n",
        "            else:\n",
        "              counter += 1\n",
        "        if counter == number_of_constraints - 1:\n",
        "          base_counter += 1\n",
        "  if base_counter == number_of_constraints:\n",
        "    return True\n",
        "  else:\n",
        "    return False"
      ],
      "metadata": {
        "id": "nHWqM8PSP5lX"
      },
      "execution_count": 139,
      "outputs": []
    },
    {
      "cell_type": "code",
      "source": [
        "def first_x_b(x_b,number_of_constraints, z, A_simplex):\n",
        "  counter = 0\n",
        "  for i in range(number_of_constraints):\n",
        "    for j in range(len(z)):\n",
        "      if A_simplex[i][j] == 1:\n",
        "        for k in range(number_of_constraints):\n",
        "          if k != i and A_simplex[k][j] == 0:\n",
        "            counter += 1\n",
        "        if counter == number_of_constraints - 1:\n",
        "          x_b.append(j)\n",
        "        counter = 0\n",
        "  return x_b"
      ],
      "metadata": {
        "id": "WBhhnZwxVYYm"
      },
      "execution_count": 140,
      "outputs": []
    },
    {
      "cell_type": "code",
      "source": [
        "def first_c_b(c_b, x_b, z):\n",
        "  for i in range(len(x_b)):\n",
        "    c_b.append(z[x_b[i]])\n",
        "  return"
      ],
      "metadata": {
        "id": "9EYLvcV0XnPS"
      },
      "execution_count": 141,
      "outputs": []
    },
    {
      "cell_type": "code",
      "source": [
        "def first_c_bar(c_bar, c_b, A_simplex):\n",
        "  for i in range(len(c_bar)):\n",
        "    for j in range(len(c_b)):\n",
        "      c_bar[i] -= round(A_simplex[j][i] * c_b[j], 2)\n",
        "  return"
      ],
      "metadata": {
        "id": "IuwUcbwgYwy0"
      },
      "execution_count": 142,
      "outputs": []
    },
    {
      "cell_type": "code",
      "source": [
        "def z_value(c_b, sim_RHS):\n",
        "  z_val = 0\n",
        "  for i in range(len(c_b)):\n",
        "    z_val += c_b[i] * sim_RHS[i]\n",
        "  return z_val"
      ],
      "metadata": {
        "id": "k8G2_BKgcER6"
      },
      "execution_count": 143,
      "outputs": []
    },
    {
      "cell_type": "code",
      "source": [
        "def check_for_improve(c_bar, x_b):\n",
        "  if m == 'min':\n",
        "    for i in range(len(c_bar)):\n",
        "      if i != x_b and c_bar[i] < 0:\n",
        "        return True\n",
        "    return False\n",
        "\n",
        "  else:\n",
        "    for i in range(len(c_bar)):\n",
        "      if i != x_b and c_bar[i] > 0:\n",
        "        return True\n",
        "    return False"
      ],
      "metadata": {
        "id": "Pgba7GY3tP9m"
      },
      "execution_count": 144,
      "outputs": []
    },
    {
      "cell_type": "code",
      "source": [
        "def minimum_test(add_to_cb, A_simplex, sim_RHS):\n",
        "  candidates = []\n",
        "  for i in range(len(sim_RHS)):\n",
        "    if A_simplex[i][add_to_cb] <= 0:\n",
        "      candidates.append(1000)\n",
        "    else:\n",
        "      candidates.append(round((sim_RHS[i]/A_simplex[i][add_to_cb]), 2))\n",
        "  temp = min(candidates)\n",
        "  for i in range(len(candidates)):\n",
        "    if candidates[i] == temp:\n",
        "      candidates.clear()\n",
        "      return i"
      ],
      "metadata": {
        "id": "TkhYSo5JvILV"
      },
      "execution_count": 145,
      "outputs": []
    },
    {
      "cell_type": "code",
      "source": [
        "def row_reduction(A_simplex, c_bar, i, j, sim_RHS):\n",
        "  divide = A_simplex[j][i]\n",
        "\n",
        "  for k in range(len(c_bar)):\n",
        "    A_simplex[j][k] = round(A_simplex[j][k] / divide, 2)\n",
        "  sim_RHS[j] = round(sim_RHS[j] / divide, 2)\n",
        "\n",
        "  for k in range(len(sim_RHS)):\n",
        "    x = A_simplex[k][i]\n",
        "    if k != j:\n",
        "      for t in range(len(c_bar)):\n",
        "          A_simplex[k][t] = (A_simplex[k][t] - round((x * A_simplex[j][t]), 2))\n",
        "      sim_RHS[k] = sim_RHS[k] - round((x * sim_RHS[j]), 2)\n",
        "\n",
        "  return"
      ],
      "metadata": {
        "id": "cCeqfTHZxhpw"
      },
      "execution_count": 146,
      "outputs": []
    },
    {
      "cell_type": "code",
      "source": [
        "def new_c_bar(c_bar, z, c_b, A_simplex):\n",
        "  temp = [0] * len(c_bar)\n",
        "  for i in range(len(c_bar)):\n",
        "    for j in range(len(c_b)):\n",
        "       temp[i] += c_b[j] * A_simplex[j][i]\n",
        "  for i in range(len(c_bar)):\n",
        "    c_bar[i] = round(z[i] - temp[i], 2)\n",
        "  return"
      ],
      "metadata": {
        "id": "nYgUj9aWRWCE"
      },
      "execution_count": 147,
      "outputs": []
    },
    {
      "cell_type": "code",
      "source": [
        "def tableau(z, c_b, x_b, A_simplex, sim_RHS, c_bar, z_val):\n",
        "  print('********************')\n",
        "  print('c_b',end=\"|\")\n",
        "  print('x_b', end=\"|\")\n",
        "  print(z, end=\"|\")\n",
        "  print('RHS')\n",
        "  for i in range(len(sim_RHS)):\n",
        "    print(c_b[i],end=\"|\")\n",
        "    print(x_b[i],end=\"|\")\n",
        "    for j in range(len(z)):\n",
        "      print(A_simplex[i][j], end=\" \")\n",
        "    print(sim_RHS[i])\n",
        "  print('C_bar : ', end=\"|\")\n",
        "  for i in range(len(z)):\n",
        "    print(c_bar[i], end=\" \")\n",
        "  print(z_val)\n",
        "  print('********************')\n",
        "  return"
      ],
      "metadata": {
        "id": "OwK3iiT915rL"
      },
      "execution_count": 148,
      "outputs": []
    },
    {
      "cell_type": "code",
      "source": [
        "def improve(c_b, x_b, z, c_bar, A_simplex, sim_RHS, z_val):\n",
        "  if m == 'min':\n",
        "    add_to_cb = min(c_bar)\n",
        "    for i in range(len(c_bar)):\n",
        "      if c_bar[i] == add_to_cb:\n",
        "        add_to_cb = i\n",
        "        break\n",
        "  else:\n",
        "    add_to_cb = max(c_bar)\n",
        "    for i in range(len(c_bar)):\n",
        "      if c_bar[i] == add_to_cb:\n",
        "        add_to_cb = i\n",
        "        break\n",
        "\n",
        "    j = minimum_test(add_to_cb, A_simplex, sim_RHS)\n",
        "    x_b[j] = i\n",
        "    c_b[j] = z[i]\n",
        "    row_reduction(A_simplex, c_bar, i, j, sim_RHS)\n",
        "    new_c_bar(c_bar, z, c_b, A_simplex)\n",
        "    z_val = z_value(c_b, sim_RHS)\n",
        "\n",
        "    tableau(z, c_b, x_b, A_simplex, sim_RHS, c_bar, z_val)\n",
        "  return"
      ],
      "metadata": {
        "id": "MWhZVYDfuJR0"
      },
      "execution_count": 149,
      "outputs": []
    },
    {
      "cell_type": "code",
      "source": [
        "def simplex(A_simplex,number_of_constraints, z, RHS):\n",
        "  # first values:\n",
        "  c_b = []\n",
        "  x_b = []\n",
        "  sim_RHS = RHS\n",
        "  c_bar = []\n",
        "\n",
        "  for i in range(len(z)):\n",
        "    c_bar.append(z[i])\n",
        "\n",
        "  first_x_b(x_b, number_of_constraints, z, A_simplex)\n",
        "  first_c_b(c_b, x_b, z)\n",
        "  first_c_bar(c_bar, c_b, A_simplex)\n",
        "\n",
        "  z_val = z_value(c_b, sim_RHS)\n",
        "\n",
        "\n",
        "\n",
        "  tableau(z, c_b, x_b, A_simplex, sim_RHS, c_bar, z_val)\n",
        "  # try to improve\n",
        "  while(check_for_improve(c_bar, x_b)):\n",
        "    improve(c_b, x_b, z, c_bar, A_simplex, sim_RHS, z_val)\n",
        "  return"
      ],
      "metadata": {
        "id": "n5AK32y6UQEr"
      },
      "execution_count": 150,
      "outputs": []
    },
    {
      "cell_type": "code",
      "source": [
        "def bigM_simplex():\n",
        "  return"
      ],
      "metadata": {
        "id": "uizIZ23AUdAx"
      },
      "execution_count": 151,
      "outputs": []
    },
    {
      "cell_type": "code",
      "source": [
        "A_simplex = A\n",
        "if reg_simplex(A_simplex, z, number_of_constraints):\n",
        "  simplex(A_simplex, number_of_constraints, z, RHS)\n",
        "else:\n",
        "  bigM_simplex()"
      ],
      "metadata": {
        "id": "0MPMTdoXPtr3",
        "colab": {
          "base_uri": "https://localhost:8080/"
        },
        "outputId": "52bbf928-6f7e-4c54-c1d5-3b6fd51b059f"
      },
      "execution_count": 152,
      "outputs": [
        {
          "output_type": "stream",
          "name": "stdout",
          "text": [
            "********************\n",
            "c_b|x_b|[5, 2, 3, -1, 1]|RHS\n",
            "-1|3|1 2 2 1 0 8\n",
            "1|4|3 4 1 0 1 7\n",
            "C_bar : |3 0 4 0 0 -1\n",
            "********************\n",
            "********************\n",
            "c_b|x_b|[5, 2, 3, -1, 1]|RHS\n",
            "3|2|0.5 1.0 1.0 0.5 0.0 4.0\n",
            "1|4|2.5 3.0 0.0 -0.5 1.0 3.0\n",
            "C_bar : |1.0 -4.0 0.0 -2.0 0.0 15.0\n",
            "********************\n",
            "********************\n",
            "c_b|x_b|[5, 2, 3, -1, 1]|RHS\n",
            "3|2|0.0 0.4 1.0 0.6 -0.2 3.4\n",
            "5|0|1.0 1.2 0.0 -0.2 0.4 1.2\n",
            "C_bar : |0.0 -5.2 0.0 -1.8 -0.4 16.2\n",
            "********************\n"
          ]
        }
      ]
    },
    {
      "cell_type": "code",
      "source": [],
      "metadata": {
        "id": "uVN1MscCGbdi"
      },
      "execution_count": 152,
      "outputs": []
    }
  ]
}