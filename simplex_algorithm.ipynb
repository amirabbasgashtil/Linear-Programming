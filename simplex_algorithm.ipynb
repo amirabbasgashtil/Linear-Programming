{
  "nbformat": 4,
  "nbformat_minor": 0,
  "metadata": {
    "colab": {
      "provenance": [],
      "authorship_tag": "ABX9TyNgfDTFhIRxKKthyx6zYQIt",
      "include_colab_link": true
    },
    "kernelspec": {
      "name": "python3",
      "display_name": "Python 3"
    },
    "language_info": {
      "name": "python"
    }
  },
  "cells": [
    {
      "cell_type": "markdown",
      "metadata": {
        "id": "view-in-github",
        "colab_type": "text"
      },
      "source": [
        "<a href=\"https://colab.research.google.com/github/amirabbasgashtil/Linear-Programming/blob/main/simplex_algorithm.ipynb\" target=\"_parent\"><img src=\"https://colab.research.google.com/assets/colab-badge.svg\" alt=\"Open In Colab\"/></a>"
      ]
    },
    {
      "cell_type": "markdown",
      "source": [
        "# Simplex algorithm for optimizing a characteristic function"
      ],
      "metadata": {
        "id": "Ld4xsQlFcEJF"
      }
    },
    {
      "cell_type": "markdown",
      "source": [
        "# first we have to input characteristic function and constraints"
      ],
      "metadata": {
        "id": "YPuIWXq5CHk1"
      }
    },
    {
      "cell_type": "code",
      "source": [
        "z = []\n",
        "z =[int(item) for item in input('Enter coeficiant of characteristic function : ').split()]\n",
        "print(z)"
      ],
      "metadata": {
        "id": "6uPHaCHqcjfd",
        "colab": {
          "base_uri": "https://localhost:8080/"
        },
        "outputId": "b0f546d9-7dc5-45e0-8e2c-1a7a303a5851"
      },
      "execution_count": 3,
      "outputs": [
        {
          "output_type": "stream",
          "name": "stdout",
          "text": [
            "Enter coeficiant of characteristic function : 1 2 3\n",
            "[1, 2, 3]\n"
          ]
        }
      ]
    },
    {
      "cell_type": "code",
      "source": [
        "m = input('Enter the type of problem: (min or max) : ')"
      ],
      "metadata": {
        "colab": {
          "base_uri": "https://localhost:8080/"
        },
        "id": "AMQCJDJ1C7Mr",
        "outputId": "64c34bbe-0daa-48c2-d871-98613d3f6fb4"
      },
      "execution_count": 4,
      "outputs": [
        {
          "name": "stdout",
          "output_type": "stream",
          "text": [
            "Enter the type of problem: (min or max) : min\n"
          ]
        }
      ]
    },
    {
      "cell_type": "code",
      "source": [
        "number_of_constraints = int(input('Enter the number of constraints: '))"
      ],
      "metadata": {
        "colab": {
          "base_uri": "https://localhost:8080/"
        },
        "id": "qzXIFNoIE_eI",
        "outputId": "da7d6b2e-9bdc-44d6-bc07-43b8ddf6bc83"
      },
      "execution_count": 5,
      "outputs": [
        {
          "name": "stdout",
          "output_type": "stream",
          "text": [
            "Enter the number of constraints: 2\n"
          ]
        }
      ]
    },
    {
      "cell_type": "code",
      "source": [
        "A = [[int(input('Enter coeficiant of x{} in constraint{} : '.format(i+1, c+1))) for i in range(len(z))] for c in range(number_of_constraints)]"
      ],
      "metadata": {
        "colab": {
          "base_uri": "https://localhost:8080/"
        },
        "id": "jsAuiLEWMIeD",
        "outputId": "6d287eca-4d50-470e-a861-f08f520bbc23"
      },
      "execution_count": 6,
      "outputs": [
        {
          "name": "stdout",
          "output_type": "stream",
          "text": [
            "Enter coeficiant of x1 in constraint1 : 1\n",
            "Enter coeficiant of x2 in constraint1 : 3\n",
            "Enter coeficiant of x3 in constraint1 : 3\n",
            "Enter coeficiant of x1 in constraint2 : 2\n",
            "Enter coeficiant of x2 in constraint2 : 4\n",
            "Enter coeficiant of x3 in constraint2 : 2\n"
          ]
        }
      ]
    },
    {
      "cell_type": "code",
      "source": [
        "Draws = [input('Enter the Draw of constraint{} : '.format(i+1)) for i in range(number_of_constraints)]"
      ],
      "metadata": {
        "colab": {
          "base_uri": "https://localhost:8080/"
        },
        "id": "6E-nMDLEFYbv",
        "outputId": "5528e7fe-46d4-4b2f-ea0d-70e3a3cd5c7a"
      },
      "execution_count": 7,
      "outputs": [
        {
          "name": "stdout",
          "output_type": "stream",
          "text": [
            "Enter the Draw of constraint1 : =\n",
            "Enter the Draw of constraint2 : >=\n"
          ]
        }
      ]
    },
    {
      "cell_type": "code",
      "source": [
        "RHS = [int(input('Enter Right Hand Side in constraint{} : '.format(i+1))) for i in range(number_of_constraints)]"
      ],
      "metadata": {
        "colab": {
          "base_uri": "https://localhost:8080/"
        },
        "id": "Ezgcwa1cFpkm",
        "outputId": "c78947d1-eced-4f2b-e7b0-6a2417f82c04"
      },
      "execution_count": 35,
      "outputs": [
        {
          "name": "stdout",
          "output_type": "stream",
          "text": [
            "Enter Right Hand Side in constraint1 : 10\n",
            "Enter Right Hand Side in constraint2 : 12\n"
          ]
        }
      ]
    },
    {
      "cell_type": "code",
      "source": [
        "sign_of_variables = [input('Enter the sign of x{} : (>= / <= / free) '.format(i+1)) for i in range(len(z))]"
      ],
      "metadata": {
        "colab": {
          "base_uri": "https://localhost:8080/"
        },
        "id": "le-CkNNAIU80",
        "outputId": "a29648e6-ec17-4bf9-8a87-4abeadadc877"
      },
      "execution_count": 9,
      "outputs": [
        {
          "name": "stdout",
          "output_type": "stream",
          "text": [
            "Enter the sign of x1 : (>= / <= / free) >=\n",
            "Enter the sign of x2 : (>= / <= / free) <=\n",
            "Enter the sign of x3 : (>= / <= / free) free\n"
          ]
        }
      ]
    },
    {
      "cell_type": "markdown",
      "source": [
        "# Now lets convert form of problem to its standard form"
      ],
      "metadata": {
        "id": "AKW0gknZNeml"
      }
    },
    {
      "cell_type": "markdown",
      "source": [
        "1. convert all of constraints to =\n",
        "2. for all x in characteristic function =>  x>=0"
      ],
      "metadata": {
        "id": "Q5J3MhLzN2ib"
      }
    },
    {
      "cell_type": "markdown",
      "source": [
        "1)"
      ],
      "metadata": {
        "id": "qaGJFahyUshz"
      }
    },
    {
      "cell_type": "code",
      "source": [
        "for i in range(len(Draws)):\n",
        "\n",
        "  if Draws[i] == \">=\":\n",
        "    # we have to add a (-1 * x_n+1) in that constraint and in characteristic function with 0 coeficiant\n",
        "    z.append(0)\n",
        "    for j in range(number_of_constraints):\n",
        "      if i == j:\n",
        "        A[j].append(-1)\n",
        "      else:\n",
        "        A[j].append(0)\n",
        "\n",
        "  elif Draws[i] == \"<=\":\n",
        "    # we have to add a (1 * x_n+1) in that constraint and in characteristic function with 0 coeficiant\n",
        "    z.append(0)\n",
        "    for j in range(number_of_constraints):\n",
        "      if i == j:\n",
        "        A[i].append(1)\n",
        "      else:\n",
        "        A[i].append(0)\n",
        "\n",
        "print(A)\n",
        "print(z)"
      ],
      "metadata": {
        "colab": {
          "base_uri": "https://localhost:8080/"
        },
        "id": "Q6H_UtVSL3jB",
        "outputId": "7bcb5b4a-eb52-4331-a955-e70f75b60f01"
      },
      "execution_count": 10,
      "outputs": [
        {
          "output_type": "stream",
          "name": "stdout",
          "text": [
            "[[1, 3, 3, 0], [2, 4, 2, -1]]\n",
            "[1, 2, 3, 0]\n"
          ]
        }
      ]
    },
    {
      "cell_type": "markdown",
      "source": [
        "2)"
      ],
      "metadata": {
        "id": "FIqrBAY_Uwy-"
      }
    },
    {
      "cell_type": "code",
      "source": [
        "for i in range(len(sign_of_variables)):\n",
        "  if sign_of_variables[i] == 'free':\n",
        "    z.insert(i+1, -1 * z[i])\n",
        "    for j in range(number_of_constraints):\n",
        "        A[j].insert(i+1, -1 * A[j][i])\n",
        "  elif sign_of_variables[i] == '<=':\n",
        "    z[i] = -1 * z[i]\n",
        "    for j in range(number_of_constraints):\n",
        "      A[j][i] = -1 * A[j][i]\n",
        "\n",
        "print(z)\n",
        "print(A)"
      ],
      "metadata": {
        "colab": {
          "base_uri": "https://localhost:8080/"
        },
        "id": "Uk826KuyUyHw",
        "outputId": "268c79dd-c3a1-45ae-c0a2-d382e7df8301"
      },
      "execution_count": 11,
      "outputs": [
        {
          "output_type": "stream",
          "name": "stdout",
          "text": [
            "[1, -2, 3, -3, 0]\n",
            "[[1, -3, 3, -3, 0], [2, -4, 2, -2, -1]]\n"
          ]
        }
      ]
    },
    {
      "cell_type": "code",
      "source": [
        "'''\n",
        "    now we have an standard optimization problem\n",
        "    lets print the standard form and then solve it by simplex algorithm\n",
        "'''\n",
        "print(m, end=\"  \")\n",
        "print('z = ', end=\"\")\n",
        "for i in range(len(z)):\n",
        "  print(str(z[i]) + 'x.{}'.format(i+1), end=\" \")\n",
        "print()\n",
        "print('subject to : ')\n",
        "for i in range(number_of_constraints):\n",
        "  for j in range(len(z)):\n",
        "    print(str(A[i][j]) + '.x{}'.format(j+1), end=\" \")\n",
        "  print('=', end=\" \")\n",
        "  print(RHS[i])\n",
        "\n",
        "for i in range(len(z)):\n",
        "  print('x.{}'.format(i+1), end=\" \")\n",
        "print('>= 0')"
      ],
      "metadata": {
        "colab": {
          "base_uri": "https://localhost:8080/"
        },
        "id": "euHIZa1F4SJa",
        "outputId": "7564fa91-6199-4340-d9b4-0dcc1ce35d93"
      },
      "execution_count": 12,
      "outputs": [
        {
          "output_type": "stream",
          "name": "stdout",
          "text": [
            "min  z = 1x.1 -2x.2 3x.3 -3x.4 0x.5 \n",
            "subject to : \n",
            "1.x1 -3.x2 3.x3 -3.x4 0.x5 = 10\n",
            "2.x1 -4.x2 2.x3 -2.x4 -1.x5 = 12\n",
            "x.1 x.2 x.3 x.4 x.5 >= 0\n"
          ]
        }
      ]
    },
    {
      "cell_type": "markdown",
      "source": [
        "# simplex method for optimization"
      ],
      "metadata": {
        "id": "N7_cwAw0DQmO"
      }
    },
    {
      "cell_type": "markdown",
      "source": [
        "first, we have to know our problem needs slack variable or not."
      ],
      "metadata": {
        "id": "to_wKSPuDsmE"
      }
    },
    {
      "cell_type": "code",
      "source": [
        "def slack_variable(x_b, z, A):\n",
        "  # check if an constraint have (+1) coeficiant that in other constraints is (0)\n",
        "  slack = True\n",
        "\n",
        "  for i in range(number_of_constraints):\n",
        "    for j in range(len(z)):\n",
        "      if A[i][j] == 1:\n",
        "        for k in range(number_of_constraints):\n",
        "          if k != i:\n",
        "            if A[k][j] == 0:\n",
        "               x_b.append(j)\n",
        "               slack = False\n",
        "      elif slack == True and j == len(z) - 1:\n",
        "        # that means we need slack variable\n",
        "        z.append(0)\n",
        "        for k in range(number_of_constraints):\n",
        "          if k == i:\n",
        "            A[k].append(1)\n",
        "          else:\n",
        "            A[k].append(0)\n",
        "        x_b.append(len(z) - 1)\n",
        "  print(A)"
      ],
      "metadata": {
        "id": "Vm8UgRe08TTx"
      },
      "execution_count": 36,
      "outputs": []
    },
    {
      "cell_type": "code",
      "source": [
        "def check_for_improve(c_bar):\n",
        "  if m == 'min':\n",
        "    for i in range(len(c_bar)):\n",
        "      if c_bar[i] <= 0:\n",
        "        return True\n",
        "    return False\n",
        "\n",
        "  else:\n",
        "    for i in range(len(c_bar)):\n",
        "      if c_bar[i] >= 0:\n",
        "        return True\n",
        "    return False"
      ],
      "metadata": {
        "id": "Puo-KcIdFEeR"
      },
      "execution_count": 40,
      "outputs": []
    },
    {
      "cell_type": "code",
      "source": [
        "def minimum_test(A_simplex, i, RHS_simplex):\n",
        "    candidate_lst = []\n",
        "    for j in range(len(RHS_simplex)):\n",
        "      candidate_lst.append(RHS_simplex[j] / A_simplex[j][i])\n",
        "\n",
        "    tmp = min(candidate_lst)\n",
        "\n",
        "    for j in range(candidate_lst):\n",
        "      if candidate_lst[j] == tmp:\n",
        "        return j"
      ],
      "metadata": {
        "id": "6GmLZQMVkm1Z"
      },
      "execution_count": 45,
      "outputs": []
    },
    {
      "cell_type": "code",
      "source": [
        "def row_reduction():\n",
        "  return"
      ],
      "metadata": {
        "id": "rVWlEnb8n82x"
      },
      "execution_count": null,
      "outputs": []
    },
    {
      "cell_type": "code",
      "source": [
        "def improve(A_simplex, x_b, c_bar, c_b, RHS_simplex):\n",
        "  if m == 'min':\n",
        "    tmp = min(c_bar)\n",
        "    new_c_b = 0\n",
        "    for i in range(c_bar):\n",
        "      if c_bar[i] == tmp:\n",
        "        new_c_b = i\n",
        "    j = minimum_test(A_simplex, new_c_b, RHS_simplex)\n",
        "    c_b[j] = z[i]\n",
        "    x_b[j] = i\n",
        "\n",
        "  else:\n",
        "    tmp = max(c_bar)\n",
        "    new_c_b = 0\n",
        "    for i in range(c_bar):\n",
        "      if c_bar[i] == tmp:\n",
        "        new_c_b = i\n",
        "    j = minimum_test(A_simplex, new_c_b, RHS_simplex)\n",
        "    c_b[j] = z[i]\n",
        "    x_b[j] = i\n",
        "\n",
        "  row_reduction()\n",
        "    return"
      ],
      "metadata": {
        "id": "ScgGY_PIFISs"
      },
      "execution_count": null,
      "outputs": []
    },
    {
      "cell_type": "code",
      "source": [
        "def tableau():\n",
        "  return"
      ],
      "metadata": {
        "id": "FCr_7vNyFMvV"
      },
      "execution_count": null,
      "outputs": []
    },
    {
      "cell_type": "markdown",
      "source": [
        "first calculate a acceptable value for z and then try to optimize it"
      ],
      "metadata": {
        "id": "YEgSRSy6QzPt"
      }
    },
    {
      "cell_type": "code",
      "source": [
        "x_b = []\n",
        "slack_variable(x_b, z, A)\n",
        "\n",
        "c_b = []\n",
        "for i in range(len(x_b)):\n",
        "  c_b.append(z[x_b[i]])\n",
        "\n",
        "c_bar = [0] * len(z)\n",
        "for i in range(number_of_constraints):\n",
        "  for j in range(len(z)):\n",
        "    c_bar[j] += z[j] - (c_b[i] * A[i][j])\n",
        "for i in range(len(c_bar)):\n",
        "  c_bar[i] = int(c_bar[i] / number_of_constraints)\n",
        "\n",
        "A_simplex = A # inside the simplex tableau\n",
        "RHS_simplex = RHS\n",
        "\n",
        "z_value = 0\n",
        "for i in range(len(c_b)):\n",
        "  z_value += c_b[i] * RHS_simplex[i]\n",
        "\n",
        "print(z_value)\n",
        "print(x_b)\n",
        "print(c_b)\n",
        "print(c_bar)"
      ],
      "metadata": {
        "colab": {
          "base_uri": "https://localhost:8080/"
        },
        "id": "_mrs7VsoGZjk",
        "outputId": "1841fa72-c331-45c2-81b3-c4e76ec3ee22"
      },
      "execution_count": 42,
      "outputs": [
        {
          "output_type": "stream",
          "name": "stdout",
          "text": [
            "[[1, -3, 3, -3, 0, 1, 0], [2, -4, 2, -2, -1, 0, 1]]\n",
            "0\n",
            "[5, 6]\n",
            "[0, 0]\n",
            "[1, -2, 3, -3, 0, 0, 0]\n"
          ]
        }
      ]
    },
    {
      "cell_type": "code",
      "source": [],
      "metadata": {
        "id": "Dp21C32LNbLu"
      },
      "execution_count": null,
      "outputs": []
    }
  ]
}