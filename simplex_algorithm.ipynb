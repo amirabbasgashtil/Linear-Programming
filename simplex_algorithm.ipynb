{
  "nbformat": 4,
  "nbformat_minor": 0,
  "metadata": {
    "colab": {
      "provenance": [],
      "authorship_tag": "ABX9TyOQkOLddXAbit853mnR45QS",
      "include_colab_link": true
    },
    "kernelspec": {
      "name": "python3",
      "display_name": "Python 3"
    },
    "language_info": {
      "name": "python"
    }
  },
  "cells": [
    {
      "cell_type": "markdown",
      "metadata": {
        "id": "view-in-github",
        "colab_type": "text"
      },
      "source": [
        "<a href=\"https://colab.research.google.com/github/amirabbasgashtil/Linear-Programming/blob/main/simplex_algorithm.ipynb\" target=\"_parent\"><img src=\"https://colab.research.google.com/assets/colab-badge.svg\" alt=\"Open In Colab\"/></a>"
      ]
    },
    {
      "cell_type": "markdown",
      "source": [
        "# Simplex algorithm for optimizing a characteristic function"
      ],
      "metadata": {
        "id": "Ld4xsQlFcEJF"
      }
    },
    {
      "cell_type": "markdown",
      "source": [
        "# first we have to input characteristic function and constraints"
      ],
      "metadata": {
        "id": "YPuIWXq5CHk1"
      }
    },
    {
      "cell_type": "code",
      "source": [
        "z = []\n",
        "z =[int(item) for item in input('Enter coeficiant of characteristic function : ').split()]\n",
        "print(z)"
      ],
      "metadata": {
        "id": "6uPHaCHqcjfd",
        "colab": {
          "base_uri": "https://localhost:8080/"
        },
        "outputId": "b3d5d862-1583-42b8-dfbb-34b0b20b0e0b"
      },
      "execution_count": 83,
      "outputs": [
        {
          "output_type": "stream",
          "name": "stdout",
          "text": [
            "Enter coeficiant of characteristic function : 1 2 3\n",
            "[1, 2, 3]\n"
          ]
        }
      ]
    },
    {
      "cell_type": "code",
      "source": [
        "m = input('Enter the type of problem: (min or max) : ')"
      ],
      "metadata": {
        "colab": {
          "base_uri": "https://localhost:8080/"
        },
        "id": "AMQCJDJ1C7Mr",
        "outputId": "27eb919c-bb64-45d9-ee18-390f09ba0903"
      },
      "execution_count": 84,
      "outputs": [
        {
          "name": "stdout",
          "output_type": "stream",
          "text": [
            "Enter the type of problem: (min or max) : min\n"
          ]
        }
      ]
    },
    {
      "cell_type": "code",
      "source": [
        "number_of_constraints = int(input('Enter the number of constraints: '))"
      ],
      "metadata": {
        "colab": {
          "base_uri": "https://localhost:8080/"
        },
        "id": "qzXIFNoIE_eI",
        "outputId": "eb14fe29-6a47-465e-a02c-ad1c45e7a352"
      },
      "execution_count": 85,
      "outputs": [
        {
          "name": "stdout",
          "output_type": "stream",
          "text": [
            "Enter the number of constraints: 2\n"
          ]
        }
      ]
    },
    {
      "cell_type": "code",
      "source": [
        "A = [[int(input('Enter coeficiant of x{} in constraint{} : '.format(i+1, c+1))) for i in range(len(z))] for c in range(number_of_constraints)]"
      ],
      "metadata": {
        "colab": {
          "base_uri": "https://localhost:8080/"
        },
        "id": "jsAuiLEWMIeD",
        "outputId": "966d006e-d415-4780-f22a-ad0f02b37ff5"
      },
      "execution_count": 86,
      "outputs": [
        {
          "name": "stdout",
          "output_type": "stream",
          "text": [
            "Enter coeficiant of x1 in constraint1 : 1\n",
            "Enter coeficiant of x2 in constraint1 : 3\n",
            "Enter coeficiant of x3 in constraint1 : 3\n",
            "Enter coeficiant of x1 in constraint2 : 2\n",
            "Enter coeficiant of x2 in constraint2 : 4\n",
            "Enter coeficiant of x3 in constraint2 : 2\n"
          ]
        }
      ]
    },
    {
      "cell_type": "code",
      "source": [
        "Draws = [input('Enter the Draw of constraint{} : '.format(i+1)) for i in range(number_of_constraints)]"
      ],
      "metadata": {
        "colab": {
          "base_uri": "https://localhost:8080/"
        },
        "id": "6E-nMDLEFYbv",
        "outputId": "a093412d-be6c-408c-ec9b-54f83194120f"
      },
      "execution_count": 87,
      "outputs": [
        {
          "name": "stdout",
          "output_type": "stream",
          "text": [
            "Enter the Draw of constraint1 : =\n",
            "Enter the Draw of constraint2 : >=\n"
          ]
        }
      ]
    },
    {
      "cell_type": "code",
      "source": [
        "RHS = [input('Enter Right Hand Side in constraint{} : '.format(i+1)) for i in range(number_of_constraints)]"
      ],
      "metadata": {
        "colab": {
          "base_uri": "https://localhost:8080/"
        },
        "id": "Ezgcwa1cFpkm",
        "outputId": "337501c8-dcf5-4243-d16c-6b7fe6359b8b"
      },
      "execution_count": 88,
      "outputs": [
        {
          "name": "stdout",
          "output_type": "stream",
          "text": [
            "Enter Right Hand Side in constraint1 : 10\n",
            "Enter Right Hand Side in constraint2 : 12\n"
          ]
        }
      ]
    },
    {
      "cell_type": "code",
      "source": [
        "sign_of_variables = [input('Enter the sign of x{} : (>= / <= / free) '.format(i+1)) for i in range(len(z))]"
      ],
      "metadata": {
        "colab": {
          "base_uri": "https://localhost:8080/"
        },
        "id": "le-CkNNAIU80",
        "outputId": "6afd45f3-ff47-483b-80eb-9af11165662d"
      },
      "execution_count": 89,
      "outputs": [
        {
          "name": "stdout",
          "output_type": "stream",
          "text": [
            "Enter the sign of x1 : (>= / <= / free) >=\n",
            "Enter the sign of x2 : (>= / <= / free) <=\n",
            "Enter the sign of x3 : (>= / <= / free) free\n"
          ]
        }
      ]
    },
    {
      "cell_type": "markdown",
      "source": [
        "# Now lets convert form of problem to its standard form"
      ],
      "metadata": {
        "id": "AKW0gknZNeml"
      }
    },
    {
      "cell_type": "markdown",
      "source": [
        "1. convert all of constraints to =\n",
        "2. for all x in characteristic function =>  x>=0"
      ],
      "metadata": {
        "id": "Q5J3MhLzN2ib"
      }
    },
    {
      "cell_type": "markdown",
      "source": [
        "1)"
      ],
      "metadata": {
        "id": "qaGJFahyUshz"
      }
    },
    {
      "cell_type": "code",
      "source": [
        "for i in range(len(Draws)):\n",
        "\n",
        "  if Draws[i] == \">=\":\n",
        "    # we have to add a (-1 * x_n+1) in that constraint and in characteristic function with 0 coeficiant\n",
        "    z.append(0)\n",
        "    for j in range(number_of_constraints):\n",
        "      if i == j:\n",
        "        A[j].append(-1)\n",
        "      else:\n",
        "        A[j].append(0)\n",
        "\n",
        "  elif Draws[i] == \"<=\":\n",
        "    # we have to add a (1 * x_n+1) in that constraint and in characteristic function with 0 coeficiant\n",
        "    z.append(0)\n",
        "    for j in range(number_of_constraints):\n",
        "      if i == j:\n",
        "        A[i].append(1)\n",
        "      else:\n",
        "        A[i].append(0)\n",
        "\n",
        "print(A)\n",
        "print(z)"
      ],
      "metadata": {
        "colab": {
          "base_uri": "https://localhost:8080/"
        },
        "id": "Q6H_UtVSL3jB",
        "outputId": "7eb029b8-9e4c-4fe4-b7b2-a97e06e53bca"
      },
      "execution_count": 90,
      "outputs": [
        {
          "output_type": "stream",
          "name": "stdout",
          "text": [
            "[[1, 3, 3, 0], [2, 4, 2, -1]]\n",
            "[1, 2, 3, 0]\n"
          ]
        }
      ]
    },
    {
      "cell_type": "markdown",
      "source": [
        "2)"
      ],
      "metadata": {
        "id": "FIqrBAY_Uwy-"
      }
    },
    {
      "cell_type": "code",
      "source": [
        "for i in range(len(sign_of_variables)):\n",
        "  if sign_of_variables[i] == 'free':\n",
        "    continue\n",
        "\n",
        "  elif sign_of_variables[i] == '<=':\n",
        "    z[i] = -1 * z[i]\n",
        "    for j in range(number_of_constraints):\n",
        "      A[j][i] = -1 * A[j][i]\n",
        "\n",
        "print(z)\n",
        "print(A)"
      ],
      "metadata": {
        "colab": {
          "base_uri": "https://localhost:8080/"
        },
        "id": "Uk826KuyUyHw",
        "outputId": "f68f990b-af47-4463-8e45-597cdb5cae9e"
      },
      "execution_count": 91,
      "outputs": [
        {
          "output_type": "stream",
          "name": "stdout",
          "text": [
            "[1, -2, 3, 0]\n",
            "[[1, -3, 3, 0], [2, -4, 2, -1]]\n"
          ]
        }
      ]
    }
  ]
}