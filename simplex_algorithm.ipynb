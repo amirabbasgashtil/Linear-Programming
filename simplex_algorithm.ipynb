{
  "cells": [
    {
      "cell_type": "markdown",
      "metadata": {
        "id": "Ld4xsQlFcEJF"
      },
      "source": [
        "# Simplex algorithm for optimizing a characteristic function"
      ]
    },
    {
      "cell_type": "markdown",
      "metadata": {
        "id": "YPuIWXq5CHk1"
      },
      "source": [
        "# first we have to input characteristic function and constraints"
      ]
    },
    {
      "cell_type": "code",
      "execution_count": 9,
      "metadata": {
        "colab": {
          "base_uri": "https://localhost:8080/"
        },
        "id": "6uPHaCHqcjfd",
        "outputId": "af55d668-a45a-4e35-bbe5-2f51e0abe5e6"
      },
      "outputs": [
        {
          "name": "stdout",
          "output_type": "stream",
          "text": [
            "[5, 2, 3, -1, 1]\n"
          ]
        }
      ],
      "source": [
        "z = []\n",
        "z =[int(item) for item in input('Enter coeficiant of characteristic function : ').split()]\n",
        "print(z)"
      ]
    },
    {
      "cell_type": "code",
      "execution_count": 10,
      "metadata": {
        "colab": {
          "base_uri": "https://localhost:8080/"
        },
        "id": "AMQCJDJ1C7Mr",
        "outputId": "58902408-ba5e-4460-dde0-26f1c361349d"
      },
      "outputs": [],
      "source": [
        "m = input('Enter the type of problem: (min or max) : ')"
      ]
    },
    {
      "cell_type": "code",
      "execution_count": 11,
      "metadata": {
        "colab": {
          "base_uri": "https://localhost:8080/"
        },
        "id": "qzXIFNoIE_eI",
        "outputId": "32da83e9-c3c7-4977-be23-442c5a496d32"
      },
      "outputs": [],
      "source": [
        "number_of_constraints = int(input('Enter the number of constraints: '))"
      ]
    },
    {
      "cell_type": "code",
      "execution_count": 12,
      "metadata": {
        "colab": {
          "base_uri": "https://localhost:8080/"
        },
        "id": "jsAuiLEWMIeD",
        "outputId": "f7db28c4-f4d2-4c94-b4b8-550b5b531331"
      },
      "outputs": [],
      "source": [
        "A = [[int(input('Enter coeficiant of x{} in constraint{} : '.format(i+1, c+1))) for i in range(len(z))] for c in range(number_of_constraints)]"
      ]
    },
    {
      "cell_type": "code",
      "execution_count": 13,
      "metadata": {
        "colab": {
          "base_uri": "https://localhost:8080/"
        },
        "id": "6E-nMDLEFYbv",
        "outputId": "446eaf68-4c30-4ff8-d8ff-4ac3404e52c9"
      },
      "outputs": [],
      "source": [
        "Draws = [input('Enter the Draw of constraint{} : '.format(i+1)) for i in range(number_of_constraints)]"
      ]
    },
    {
      "cell_type": "code",
      "execution_count": 14,
      "metadata": {
        "colab": {
          "base_uri": "https://localhost:8080/"
        },
        "id": "Ezgcwa1cFpkm",
        "outputId": "d5cf6660-8229-46ad-811d-2e7683a0905c"
      },
      "outputs": [],
      "source": [
        "RHS = [int(input('Enter Right Hand Side in constraint{} : '.format(i+1))) for i in range(number_of_constraints)]"
      ]
    },
    {
      "cell_type": "code",
      "execution_count": 15,
      "metadata": {
        "colab": {
          "base_uri": "https://localhost:8080/"
        },
        "id": "le-CkNNAIU80",
        "outputId": "2ecb0a94-6fc5-4f39-bf8a-cc5b5646a179"
      },
      "outputs": [],
      "source": [
        "sign_of_variables = [input('Enter the sign of x{} : (>= / <= / free) '.format(i+1)) for i in range(len(z))]"
      ]
    },
    {
      "cell_type": "markdown",
      "metadata": {
        "id": "AKW0gknZNeml"
      },
      "source": [
        "# Now lets convert form of problem to its standard form"
      ]
    },
    {
      "cell_type": "markdown",
      "metadata": {
        "id": "Q5J3MhLzN2ib"
      },
      "source": [
        "1. convert all of constraints to =\n",
        "2. for all x in characteristic function =>  x>=0\n",
        "3. for all b in Right Hand Side b>=0"
      ]
    },
    {
      "cell_type": "markdown",
      "metadata": {
        "id": "qaGJFahyUshz"
      },
      "source": [
        "1)"
      ]
    },
    {
      "cell_type": "code",
      "execution_count": 16,
      "metadata": {
        "colab": {
          "base_uri": "https://localhost:8080/"
        },
        "id": "Q6H_UtVSL3jB",
        "outputId": "da101e98-5a16-4b87-ac31-3e5a5be4a5b1"
      },
      "outputs": [
        {
          "name": "stdout",
          "output_type": "stream",
          "text": [
            "[[1, 2, 2, 1, 0], [3, 4, 1, 0, 1]]\n",
            "[5, 2, 3, -1, 1]\n"
          ]
        }
      ],
      "source": [
        "for i in range(len(Draws)):\n",
        "\n",
        "  if Draws[i] == \">=\":\n",
        "    # we have to add a (-1 * x_n+1) in that constraint and in characteristic function with 0 coeficiant\n",
        "    z.append(0)\n",
        "    for j in range(number_of_constraints):\n",
        "      if i == j:\n",
        "        A[j].append(-1)\n",
        "      else:\n",
        "        A[j].append(0)\n",
        "\n",
        "  elif Draws[i] == \"<=\":\n",
        "    # we have to add a (1 * x_n+1) in that constraint and in characteristic function with 0 coeficiant\n",
        "    z.append(0)\n",
        "    for j in range(number_of_constraints):\n",
        "      if i == j:\n",
        "        A[j].append(1)\n",
        "      else:\n",
        "        A[j].append(0)\n",
        "\n",
        "print(A)\n",
        "print(z)"
      ]
    },
    {
      "cell_type": "markdown",
      "metadata": {
        "id": "FIqrBAY_Uwy-"
      },
      "source": [
        "2)"
      ]
    },
    {
      "cell_type": "code",
      "execution_count": 17,
      "metadata": {
        "colab": {
          "base_uri": "https://localhost:8080/"
        },
        "id": "Uk826KuyUyHw",
        "outputId": "081e3d07-b5c0-4494-fc96-5ff0720b5440"
      },
      "outputs": [
        {
          "name": "stdout",
          "output_type": "stream",
          "text": [
            "[5, 2, 3, -1, 1]\n",
            "[[1, 2, 2, 1, 0], [3, 4, 1, 0, 1]]\n"
          ]
        }
      ],
      "source": [
        "for i in range(len(sign_of_variables)):\n",
        "  if sign_of_variables[i] == 'free':\n",
        "    z.insert(i+1, -1 * z[i])\n",
        "    for j in range(number_of_constraints):\n",
        "        A[j].insert(i+1, -1 * A[j][i])\n",
        "  elif sign_of_variables[i] == '<=':\n",
        "    z[i] = -1 * z[i]\n",
        "    for j in range(number_of_constraints):\n",
        "      A[j][i] = -1 * A[j][i]\n",
        "\n",
        "print(z)\n",
        "print(A)"
      ]
    },
    {
      "cell_type": "markdown",
      "metadata": {},
      "source": [
        "3."
      ]
    },
    {
      "cell_type": "code",
      "execution_count": 18,
      "metadata": {},
      "outputs": [],
      "source": [
        "for i in range(len(RHS)):\n",
        "    if RHS[i] < 0:\n",
        "        for j in range(len(z)):\n",
        "            A[i][j] = -1 *A[i][j]\n",
        "        RHS[i] = -1 * RHS[i]"
      ]
    },
    {
      "cell_type": "code",
      "execution_count": 19,
      "metadata": {
        "colab": {
          "base_uri": "https://localhost:8080/"
        },
        "id": "euHIZa1F4SJa",
        "outputId": "7fd6790d-5167-445e-82aa-a98ee2a7fe81"
      },
      "outputs": [
        {
          "name": "stdout",
          "output_type": "stream",
          "text": [
            "max  z = 5x.1 2x.2 3x.3 -1x.4 1x.5 \n",
            "subject to : \n",
            "1.x1 2.x2 2.x3 1.x4 0.x5 = 8\n",
            "3.x1 4.x2 1.x3 0.x4 1.x5 = 7\n",
            "x.1 x.2 x.3 x.4 x.5 >= 0\n"
          ]
        }
      ],
      "source": [
        "'''\n",
        "    now we have an standard optimization problem\n",
        "    lets print the standard form and then solve it by simplex algorithm\n",
        "'''\n",
        "print(m, end=\"  \")\n",
        "print('z = ', end=\"\")\n",
        "for i in range(len(z)):\n",
        "  print(str(z[i]) + 'x.{}'.format(i+1), end=\" \")\n",
        "print()\n",
        "print('subject to : ')\n",
        "for i in range(number_of_constraints):\n",
        "  for j in range(len(z)):\n",
        "    print(str(A[i][j]) + '.x{}'.format(j+1), end=\" \")\n",
        "  print('=', end=\" \")\n",
        "  print(RHS[i])\n",
        "\n",
        "for i in range(len(z)):\n",
        "  print('x.{}'.format(i+1), end=\" \")\n",
        "print('>= 0')"
      ]
    },
    {
      "cell_type": "markdown",
      "metadata": {
        "id": "N7_cwAw0DQmO"
      },
      "source": [
        "# simplex method for optimization"
      ]
    },
    {
      "cell_type": "markdown",
      "metadata": {
        "id": "rKrbDeJtPJjm"
      },
      "source": [
        "first we have to know our problem got the answer with regular simplex method or needs to another simplex method"
      ]
    },
    {
      "cell_type": "code",
      "execution_count": 20,
      "metadata": {
        "id": "nHWqM8PSP5lX"
      },
      "outputs": [],
      "source": [
        "def reg_simplex(A_simplex, z, number_of_constraints):\n",
        "  base_counter = 0\n",
        "  for i in range(number_of_constraints):\n",
        "    for j in range(len(z)):\n",
        "      counter = 0\n",
        "      if A_simplex[i][j] == 1:\n",
        "        for k in range(number_of_constraints):\n",
        "          if k != i:\n",
        "            if A_simplex[k][j] == 0:\n",
        "              counter += 1\n",
        "        if counter == number_of_constraints - 1:\n",
        "          base_counter += 1\n",
        "  if base_counter == number_of_constraints:\n",
        "    return True\n",
        "  else:\n",
        "    return False"
      ]
    },
    {
      "cell_type": "code",
      "execution_count": 21,
      "metadata": {
        "id": "WBhhnZwxVYYm"
      },
      "outputs": [],
      "source": [
        "def first_x_b(x_b,number_of_constraints, z, A_simplex):\n",
        "  counter = 0\n",
        "  for i in range(number_of_constraints):\n",
        "    for j in range(len(z)):\n",
        "      if A_simplex[i][j] == 1:\n",
        "        for k in range(number_of_constraints):\n",
        "          if k != i and A_simplex[k][j] == 0:\n",
        "            counter += 1\n",
        "        if counter == number_of_constraints - 1:\n",
        "          x_b.append(j)\n",
        "        counter = 0\n",
        "  return x_b"
      ]
    },
    {
      "cell_type": "code",
      "execution_count": 22,
      "metadata": {
        "id": "9EYLvcV0XnPS"
      },
      "outputs": [],
      "source": [
        "def first_c_b(c_b, x_b, z):\n",
        "  for i in range(len(x_b)):\n",
        "    c_b.append(z[x_b[i]])\n",
        "  return"
      ]
    },
    {
      "cell_type": "code",
      "execution_count": 23,
      "metadata": {
        "id": "IuwUcbwgYwy0"
      },
      "outputs": [],
      "source": [
        "def first_c_bar(c_bar, c_b, A_simplex):\n",
        "  for i in range(len(c_bar)):\n",
        "    for j in range(len(c_b)):\n",
        "      c_bar[i] -= round(A_simplex[j][i] * c_b[j], 2)\n",
        "  return"
      ]
    },
    {
      "cell_type": "code",
      "execution_count": 24,
      "metadata": {
        "id": "k8G2_BKgcER6"
      },
      "outputs": [],
      "source": [
        "def z_value(c_b, sim_RHS):\n",
        "  z_val = 0\n",
        "  for i in range(len(c_b)):\n",
        "    z_val += c_b[i] * sim_RHS[i]\n",
        "  return z_val"
      ]
    },
    {
      "cell_type": "code",
      "execution_count": 25,
      "metadata": {
        "id": "Pgba7GY3tP9m"
      },
      "outputs": [],
      "source": [
        "def check_for_improve(c_bar, x_b, mm):\n",
        "  if mm == 'min':\n",
        "    for i in range(len(c_bar)):\n",
        "      if i != x_b and c_bar[i] < 0:\n",
        "        return True\n",
        "    return False\n",
        "\n",
        "  else:\n",
        "    for i in range(len(c_bar)):\n",
        "      if i != x_b and c_bar[i] > 0:\n",
        "        return True\n",
        "    return False"
      ]
    },
    {
      "cell_type": "code",
      "execution_count": 26,
      "metadata": {
        "id": "TkhYSo5JvILV"
      },
      "outputs": [],
      "source": [
        "def minimum_test(add_to_cb, A_simplex, sim_RHS):\n",
        "  candidates = []\n",
        "  for i in range(len(sim_RHS)):\n",
        "    if A_simplex[i][add_to_cb] <= 0:\n",
        "      candidates.append(1000)\n",
        "    else:\n",
        "      candidates.append(round((sim_RHS[i]/A_simplex[i][add_to_cb]), 2))\n",
        "  temp = min(candidates)\n",
        "  for i in range(len(candidates)):\n",
        "    if candidates[i] == temp:\n",
        "      candidates.clear()\n",
        "      return i"
      ]
    },
    {
      "cell_type": "code",
      "execution_count": 27,
      "metadata": {
        "id": "cCeqfTHZxhpw"
      },
      "outputs": [],
      "source": [
        "def row_reduction(A_simplex, c_bar, i, j, sim_RHS):\n",
        "  divide = A_simplex[j][i]\n",
        "\n",
        "  for k in range(len(c_bar)):\n",
        "    A_simplex[j][k] = round(A_simplex[j][k] / divide, 2)\n",
        "  sim_RHS[j] = round(sim_RHS[j] / divide, 2)\n",
        "\n",
        "  for k in range(len(sim_RHS)):\n",
        "    x = A_simplex[k][i]\n",
        "    if k != j:\n",
        "      for t in range(len(c_bar)):\n",
        "          A_simplex[k][t] = (A_simplex[k][t] - round((x * A_simplex[j][t]), 2))\n",
        "      sim_RHS[k] = sim_RHS[k] - round((x * sim_RHS[j]), 2)\n",
        "\n",
        "  return"
      ]
    },
    {
      "cell_type": "code",
      "execution_count": 28,
      "metadata": {
        "id": "nYgUj9aWRWCE"
      },
      "outputs": [],
      "source": [
        "def new_c_bar(c_bar, z, c_b, A_simplex):\n",
        "  temp = [0] * len(c_bar)\n",
        "  for i in range(len(c_bar)):\n",
        "    for j in range(len(c_b)):\n",
        "       temp[i] += c_b[j] * A_simplex[j][i]\n",
        "  for i in range(len(c_bar)):\n",
        "    c_bar[i] = round(z[i] - temp[i], 2)\n",
        "  return"
      ]
    },
    {
      "cell_type": "code",
      "execution_count": 56,
      "metadata": {
        "id": "OwK3iiT915rL"
      },
      "outputs": [],
      "source": [
        "def tableau(z, c_b, x_b, A_simplex, sim_RHS, c_bar, z_val):\n",
        "  print('********************')\n",
        "  print('c_b',end=\"\\t\")\n",
        "  print('x_b', end=\"\\t\")\n",
        "  for i in range(len(z)):\n",
        "    print(z[i], end=\"\\t\")\n",
        "  print('RHS')\n",
        "  for i in range(len(sim_RHS)):\n",
        "    print(c_b[i],end=\"\\t\")\n",
        "    print(x_b[i],end=\"\\t\")\n",
        "    for j in range(len(z)):\n",
        "      print(A_simplex[i][j], end=\"\\t\")\n",
        "    print(sim_RHS[i])\n",
        "  print('C_bar : ', end=\"\\t\")\n",
        "  for i in range(len(z)):\n",
        "    print(round(c_bar[i], 2), end=\"\\t\")\n",
        "  print('z = ' + str(z_val))\n",
        "  return"
      ]
    },
    {
      "cell_type": "code",
      "execution_count": 57,
      "metadata": {
        "id": "MWhZVYDfuJR0"
      },
      "outputs": [],
      "source": [
        "def improve(c_b, x_b, z, c_bar, A_simplex, sim_RHS, z_val, mm):\n",
        "  if mm == 'min':\n",
        "    add_to_cb = min(c_bar)\n",
        "    for i in range(len(c_bar)):\n",
        "      if c_bar[i] == add_to_cb:\n",
        "        add_to_cb = i\n",
        "        break\n",
        "  else:\n",
        "    add_to_cb = max(c_bar)\n",
        "    for i in range(len(c_bar)):\n",
        "      if c_bar[i] == add_to_cb:\n",
        "        add_to_cb = i\n",
        "        break\n",
        "\n",
        "  j = minimum_test(add_to_cb, A_simplex, sim_RHS)\n",
        "  x_b[j] = i\n",
        "  c_b[j] = z[i]\n",
        "  row_reduction(A_simplex, c_bar, i, j, sim_RHS)\n",
        "  new_c_bar(c_bar, z, c_b, A_simplex)\n",
        "  z_val = z_value(c_b, sim_RHS)\n",
        "\n",
        "  tableau(z, c_b, x_b, A_simplex, sim_RHS, c_bar, z_val)\n",
        "  return"
      ]
    },
    {
      "cell_type": "code",
      "execution_count": 58,
      "metadata": {
        "id": "n5AK32y6UQEr"
      },
      "outputs": [],
      "source": [
        "def simplex(A_simplex,number_of_constraints, z, RHS, mm):\n",
        "  # first values:\n",
        "  c_b = []\n",
        "  x_b = []\n",
        "  \n",
        "  c_bar = []\n",
        "\n",
        "  for i in range(len(z)):\n",
        "    c_bar.append(z[i])\n",
        "\n",
        "  first_x_b(x_b, number_of_constraints, z, A_simplex)\n",
        "  first_c_b(c_b, x_b, z)\n",
        "  first_c_bar(c_bar, c_b, A_simplex)\n",
        "\n",
        "  z_val = z_value(c_b, RHS)\n",
        "\n",
        "\n",
        "\n",
        "  tableau(z, c_b, x_b, A_simplex, RHS, c_bar, z_val)\n",
        "  # try to improve\n",
        "  while(check_for_improve(c_bar, x_b, mm)):\n",
        "    improve(c_b, x_b, z, c_bar, A_simplex, RHS, z_val, mm)\n",
        "  return\n"
      ]
    },
    {
      "cell_type": "code",
      "execution_count": 59,
      "metadata": {
        "id": "VOp0bo2piLpv"
      },
      "outputs": [],
      "source": [
        "def is_there_basic_var(A_simplex_prime, i, z, RHS):\n",
        "\n",
        "  for j in range(len(z)):\n",
        "    counter = 0\n",
        "    if A_simplex_prime[i][j] == 1:\n",
        "      for k in range(len(RHS)):\n",
        "        if k != i and A_simplex_prime[k][j] == 0:\n",
        "            counter += 1\n",
        "      if counter == len(RHS) - 1:\n",
        "        return True\n",
        "  return False"
      ]
    },
    {
      "cell_type": "code",
      "execution_count": 60,
      "metadata": {
        "id": "fDQ09na9LB0Y"
      },
      "outputs": [],
      "source": [
        "def artificial_var_twoPhase(A_simplex_prime, RHS, z, w):\n",
        "  for i in range(len(RHS)):\n",
        "    if is_there_basic_var(A_simplex_prime, i, z, RHS) is False:\n",
        "      A_simplex_prime[i].append(1)\n",
        "      w.append(1)\n",
        "      for j in range(len(RHS)):\n",
        "        if j != i:\n",
        "          A_simplex_prime[j].append(0)\n",
        "  return"
      ]
    },
    {
      "cell_type": "code",
      "execution_count": 61,
      "metadata": {
        "id": "uizIZ23AUdAx"
      },
      "outputs": [],
      "source": [
        "def two_phase(A_simplex, number_of_constraints, z, RHS):\n",
        "  w = [0] * len(z)\n",
        "  A_simplex_prime = A_simplex[:][:]\n",
        "  artificial_var_twoPhase(A_simplex_prime, RHS, z, w)\n",
        "  \n",
        "  simplex(A_simplex_prime, number_of_constraints, w, RHS, mm='min')\n",
        "  \n",
        "  c_b_new = []\n",
        "  x_b_new = []\n",
        "  x_b_new = first_x_b(x_b_new, number_of_constraints, w, A_simplex_prime)\n",
        "  first_c_b(c_b_new, x_b_new, w)\n",
        "  \n",
        "  if z_value(c_b_new, RHS) == 0:\n",
        "    A_simplex_prime = A_simplex[:][:len(z)]\n",
        "    simplex(A_simplex_prime, number_of_constraints, z, RHS, m)\n",
        "  else:\n",
        "    print('this problem would\\'nt solve')\n",
        "  return"
      ]
    },
    {
      "cell_type": "code",
      "execution_count": 62,
      "metadata": {},
      "outputs": [],
      "source": [
        "def artificial_var_bigM(A_simplex, RHS, z, m):\n",
        "    for i in range(len(RHS)):\n",
        "        if is_there_basic_var(A_simplex, i, z, RHS) is False:\n",
        "            A_simplex[i].append(1)\n",
        "            if m == 'min':\n",
        "                z.append(10000)\n",
        "            else:\n",
        "                z.append(-10000)\n",
        "            for j in range(len(RHS)):\n",
        "                if j != i :\n",
        "                    A_simplex[j].append(0)\n",
        "    return"
      ]
    },
    {
      "cell_type": "code",
      "execution_count": 63,
      "metadata": {},
      "outputs": [],
      "source": [
        "def BigM(A_simplex, RHS, z, m):\n",
        "    artificial_var_bigM(A_simplex, RHS, z, m)\n",
        "    \n",
        "    simplex(A_simplex, number_of_constraints, z, RHS, m)\n",
        "    return"
      ]
    },
    {
      "cell_type": "code",
      "execution_count": 64,
      "metadata": {
        "colab": {
          "base_uri": "https://localhost:8080/",
          "height": 737
        },
        "id": "0MPMTdoXPtr3",
        "outputId": "c0ce467d-abdd-42a0-d5bc-1c965e0e7e4d"
      },
      "outputs": [
        {
          "name": "stdout",
          "output_type": "stream",
          "text": [
            "********************\n",
            "c_b\tx_b\t5\t2\t3\t-1\t1\tRHS\n",
            "3\t2\t0.0\t0.4\t1.0\t0.6\t-0.2\t3.4\n",
            "5\t0\t1.0\t1.2\t0.0\t-0.2\t0.4\t1.2\n",
            "C_bar : \t0.0\t-5.2\t0.0\t-1.8\t-0.4\tz = 16.2\n"
          ]
        }
      ],
      "source": [
        "if __name__==\"__main__\":\n",
        "  A_simplex = A[:][:]\n",
        "  if reg_simplex(A_simplex, z, number_of_constraints):\n",
        "    simplex(A_simplex, number_of_constraints, z, RHS, m)\n",
        "  else:\n",
        "    kind_of_program = int(input(' you want to get the result in which way?  1.two phase 2.BigM'))\n",
        "    if kind_of_program == 1:\n",
        "      two_phase(A_simplex, number_of_constraints, z, RHS)\n",
        "    else:\n",
        "      BigM(A_simplex, RHS, z, m)"
      ]
    }
  ],
  "metadata": {
    "colab": {
      "provenance": []
    },
    "kernelspec": {
      "display_name": "Python 3",
      "name": "python3"
    },
    "language_info": {
      "codemirror_mode": {
        "name": "ipython",
        "version": 3
      },
      "file_extension": ".py",
      "mimetype": "text/x-python",
      "name": "python",
      "nbconvert_exporter": "python",
      "pygments_lexer": "ipython3",
      "version": "3.12.0"
    }
  },
  "nbformat": 4,
  "nbformat_minor": 0
}
