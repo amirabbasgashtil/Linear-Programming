{
  "nbformat": 4,
  "nbformat_minor": 0,
  "metadata": {
    "colab": {
      "provenance": [],
      "authorship_tag": "ABX9TyMecZlutqDzOsfHBC1Dpt4s",
      "include_colab_link": true
    },
    "kernelspec": {
      "name": "python3",
      "display_name": "Python 3"
    },
    "language_info": {
      "name": "python"
    }
  },
  "cells": [
    {
      "cell_type": "markdown",
      "metadata": {
        "id": "view-in-github",
        "colab_type": "text"
      },
      "source": [
        "<a href=\"https://colab.research.google.com/github/amirabbasgashtil/Linear-Programming/blob/main/simplex_algorithm.ipynb\" target=\"_parent\"><img src=\"https://colab.research.google.com/assets/colab-badge.svg\" alt=\"Open In Colab\"/></a>"
      ]
    },
    {
      "cell_type": "markdown",
      "source": [
        "# Simplex algorithm for optimizing a characteristic function"
      ],
      "metadata": {
        "id": "Ld4xsQlFcEJF"
      }
    },
    {
      "cell_type": "markdown",
      "source": [
        "# first we have to input characteristic function and constraints"
      ],
      "metadata": {
        "id": "YPuIWXq5CHk1"
      }
    },
    {
      "cell_type": "code",
      "source": [
        "z = []\n",
        "z =[int(item) for item in input('Enter coeficiant of characteristic function : ').split()]\n",
        "print(z)"
      ],
      "metadata": {
        "id": "6uPHaCHqcjfd",
        "colab": {
          "base_uri": "https://localhost:8080/"
        },
        "outputId": "810d51bd-2c7a-4d58-b078-8e7cad3696ac"
      },
      "execution_count": 53,
      "outputs": [
        {
          "output_type": "stream",
          "name": "stdout",
          "text": [
            "Enter coeficiant of characteristic function : 1 2 3\n",
            "[1, 2, 3]\n"
          ]
        }
      ]
    },
    {
      "cell_type": "code",
      "source": [
        "m = input('Enter the type of problem: (min or max) : ')"
      ],
      "metadata": {
        "colab": {
          "base_uri": "https://localhost:8080/"
        },
        "id": "AMQCJDJ1C7Mr",
        "outputId": "157d7982-2498-4d37-844d-58ca8cc99930"
      },
      "execution_count": 54,
      "outputs": [
        {
          "name": "stdout",
          "output_type": "stream",
          "text": [
            "Enter the type of problem: (min or max) : min\n"
          ]
        }
      ]
    },
    {
      "cell_type": "code",
      "source": [
        "number_of_constraints = int(input('Enter the number of constraints: '))"
      ],
      "metadata": {
        "colab": {
          "base_uri": "https://localhost:8080/"
        },
        "id": "qzXIFNoIE_eI",
        "outputId": "ce983349-a5ed-4e02-f8e8-26cdf3e51033"
      },
      "execution_count": 55,
      "outputs": [
        {
          "name": "stdout",
          "output_type": "stream",
          "text": [
            "Enter the number of constraints: 2\n"
          ]
        }
      ]
    },
    {
      "cell_type": "code",
      "source": [
        "A = [[int(input('Enter coeficiant of x{} in constraint{} : '.format(i+1, c+1))) for i in range(len(z))] for c in range(number_of_constraints)]"
      ],
      "metadata": {
        "colab": {
          "base_uri": "https://localhost:8080/"
        },
        "id": "jsAuiLEWMIeD",
        "outputId": "070b9cc9-81ef-4b42-9dfd-07b44def7234"
      },
      "execution_count": 56,
      "outputs": [
        {
          "name": "stdout",
          "output_type": "stream",
          "text": [
            "Enter coeficiant of x1 in constraint1 : 1\n",
            "Enter coeficiant of x2 in constraint1 : 3\n",
            "Enter coeficiant of x3 in constraint1 : 3\n",
            "Enter coeficiant of x1 in constraint2 : 2\n",
            "Enter coeficiant of x2 in constraint2 : 4\n",
            "Enter coeficiant of x3 in constraint2 : 2\n"
          ]
        }
      ]
    },
    {
      "cell_type": "code",
      "source": [
        "Draws = [input('Enter the Draw of constraint{} : '.format(i+1)) for i in range(number_of_constraints)]"
      ],
      "metadata": {
        "colab": {
          "base_uri": "https://localhost:8080/"
        },
        "id": "6E-nMDLEFYbv",
        "outputId": "7d9ec638-7ee6-42ce-bf9a-fa53b4a4a84b"
      },
      "execution_count": 57,
      "outputs": [
        {
          "name": "stdout",
          "output_type": "stream",
          "text": [
            "Enter the Draw of constraint1 : =\n",
            "Enter the Draw of constraint2 : >=\n"
          ]
        }
      ]
    },
    {
      "cell_type": "code",
      "source": [
        "RHS = [input('Enter Right Hand Side in constraint{} : '.format(i+1)) for i in range(number_of_constraints)]"
      ],
      "metadata": {
        "colab": {
          "base_uri": "https://localhost:8080/"
        },
        "id": "Ezgcwa1cFpkm",
        "outputId": "50347ff5-d22f-4424-b1e5-f97acd533a40"
      },
      "execution_count": 58,
      "outputs": [
        {
          "name": "stdout",
          "output_type": "stream",
          "text": [
            "Enter Right Hand Side in constraint1 : 10\n",
            "Enter Right Hand Side in constraint2 : 12\n"
          ]
        }
      ]
    },
    {
      "cell_type": "code",
      "source": [
        "sign_of_variables = [input('Enter the sign of x{} : (>= / <= / free) '.format(i+1)) for i in range(len(z))]"
      ],
      "metadata": {
        "colab": {
          "base_uri": "https://localhost:8080/"
        },
        "id": "le-CkNNAIU80",
        "outputId": "2df85140-b8fe-47fc-aaba-122110104927"
      },
      "execution_count": 59,
      "outputs": [
        {
          "name": "stdout",
          "output_type": "stream",
          "text": [
            "Enter the sign of x1 : (>= / <= / free) >=\n",
            "Enter the sign of x2 : (>= / <= / free) <=\n",
            "Enter the sign of x3 : (>= / <= / free) free\n"
          ]
        }
      ]
    },
    {
      "cell_type": "markdown",
      "source": [
        "# Now lets convert form of problem to its standard form"
      ],
      "metadata": {
        "id": "AKW0gknZNeml"
      }
    },
    {
      "cell_type": "markdown",
      "source": [
        "1. convert all of constraints to =\n",
        "2. for all x in characteristic function =>  x>=0"
      ],
      "metadata": {
        "id": "Q5J3MhLzN2ib"
      }
    },
    {
      "cell_type": "markdown",
      "source": [
        "1)"
      ],
      "metadata": {
        "id": "qaGJFahyUshz"
      }
    },
    {
      "cell_type": "code",
      "source": [
        "for i in range(len(Draws)):\n",
        "\n",
        "  if Draws[i] == \">=\":\n",
        "    # we have to add a (-1 * x_n+1) in that constraint and in characteristic function with 0 coeficiant\n",
        "    z.append(0)\n",
        "    for j in range(number_of_constraints):\n",
        "      if i == j:\n",
        "        A[j].append(-1)\n",
        "      else:\n",
        "        A[j].append(0)\n",
        "\n",
        "  elif Draws[i] == \"<=\":\n",
        "    # we have to add a (1 * x_n+1) in that constraint and in characteristic function with 0 coeficiant\n",
        "    z.append(0)\n",
        "    for j in range(number_of_constraints):\n",
        "      if i == j:\n",
        "        A[i].append(1)\n",
        "      else:\n",
        "        A[i].append(0)\n",
        "\n",
        "print(A)\n",
        "print(z)"
      ],
      "metadata": {
        "colab": {
          "base_uri": "https://localhost:8080/"
        },
        "id": "Q6H_UtVSL3jB",
        "outputId": "a1407556-1ad8-4914-8326-919de98dc7cc"
      },
      "execution_count": 60,
      "outputs": [
        {
          "output_type": "stream",
          "name": "stdout",
          "text": [
            "[[1, 3, 3, 0], [2, 4, 2, -1]]\n",
            "[1, 2, 3, 0]\n"
          ]
        }
      ]
    },
    {
      "cell_type": "markdown",
      "source": [
        "2)"
      ],
      "metadata": {
        "id": "FIqrBAY_Uwy-"
      }
    },
    {
      "cell_type": "code",
      "source": [
        "for i in range(len(sign_of_variables)):\n",
        "  if sign_of_variables[i] == 'free':\n",
        "    z.insert(i+1, -1 * z[i])\n",
        "    for j in range(number_of_constraints):\n",
        "        A[j].insert(i+1, -1 * A[j][i])\n",
        "  elif sign_of_variables[i] == '<=':\n",
        "    z[i] = -1 * z[i]\n",
        "    for j in range(number_of_constraints):\n",
        "      A[j][i] = -1 * A[j][i]\n",
        "\n",
        "print(z)\n",
        "print(A)"
      ],
      "metadata": {
        "colab": {
          "base_uri": "https://localhost:8080/"
        },
        "id": "Uk826KuyUyHw",
        "outputId": "fb3d5a61-2f34-44f5-f6d8-602ae4b328af"
      },
      "execution_count": 61,
      "outputs": [
        {
          "output_type": "stream",
          "name": "stdout",
          "text": [
            "[1, -2, 3, -3, 0]\n",
            "[[1, -3, 3, -3, 0], [2, -4, 2, -2, -1]]\n"
          ]
        }
      ]
    },
    {
      "cell_type": "code",
      "source": [
        "'''\n",
        "    now we have an standard optimization problem\n",
        "    lets print the standard form and then solve it by simplex algorithm\n",
        "'''\n",
        "print(m, end=\"  \")\n",
        "print('z = ', end=\"\")\n",
        "for i in range(len(z)):\n",
        "  print(str(z[i]) + 'x.{}'.format(i+1), end=\" \")\n",
        "print()\n",
        "print('subject to : ')\n",
        "for i in range(number_of_constraints):\n",
        "  for j in range(len(z)):\n",
        "    print(str(A[i][j]) + '.x{}'.format(j+1), end=\" \")\n",
        "  print('=', end=\" \")\n",
        "  print(RHS[i])\n"
      ],
      "metadata": {
        "colab": {
          "base_uri": "https://localhost:8080/"
        },
        "id": "euHIZa1F4SJa",
        "outputId": "4f5eab67-2801-4ef7-b57e-870b09c72e8f"
      },
      "execution_count": 64,
      "outputs": [
        {
          "output_type": "stream",
          "name": "stdout",
          "text": [
            "min  z = 1x.1 -2x.2 3x.3 -3x.4 0x.5 \n",
            "subject to : \n",
            "1.x1 -3.x2 3.x3 -3.x4 0.x5 = 10\n",
            "2.x1 -4.x2 2.x3 -2.x4 -1.x5 = 12\n"
          ]
        }
      ]
    },
    {
      "cell_type": "code",
      "source": [],
      "metadata": {
        "id": "_zA_-dEa5Id6"
      },
      "execution_count": null,
      "outputs": []
    }
  ]
}