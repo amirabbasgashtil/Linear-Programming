{
  "nbformat": 4,
  "nbformat_minor": 0,
  "metadata": {
    "colab": {
      "provenance": []
    },
    "kernelspec": {
      "name": "python3",
      "display_name": "Python 3"
    },
    "language_info": {
      "name": "python"
    }
  },
  "cells": [
    {
      "cell_type": "code",
      "source": [
        "import numpy as np"
      ],
      "metadata": {
        "id": "oLyJkOqunCWv"
      },
      "execution_count": null,
      "outputs": []
    },
    {
      "cell_type": "markdown",
      "source": [
        "**DUALITY**\n",
        "# First we have to get an LP in primal form:"
      ],
      "metadata": {
        "id": "aP-K5rlTiJXs"
      }
    },
    {
      "cell_type": "markdown",
      "source": [
        "primal for of an LP:\n",
        "\n",
        "```\n",
        "min or max    (z = cx)\n",
        "subject to:   Ax >= b or Ax <= b\n",
        "              x >= 0\n",
        "```"
      ],
      "metadata": {
        "id": "TMF2W7mSizV2"
      }
    },
    {
      "cell_type": "code",
      "source": [
        "z = input('Enter the Coefficients of characteristic function: ').split()\n",
        "print(z)"
      ],
      "metadata": {
        "colab": {
          "base_uri": "https://localhost:8080/"
        },
        "id": "TADq5pfHi3Qm",
        "outputId": "c62f1df0-bdc5-4537-e34e-fcb79555ad46"
      },
      "execution_count": null,
      "outputs": [
        {
          "output_type": "stream",
          "name": "stdout",
          "text": [
            "Enter the Coefficients of characteristic function: 2 -3 4\n",
            "['2', '-3', '4']\n"
          ]
        }
      ]
    },
    {
      "cell_type": "code",
      "source": [
        "m = input('type of your program (min or max): ')"
      ],
      "metadata": {
        "colab": {
          "base_uri": "https://localhost:8080/"
        },
        "id": "tqCLT65kkHDv",
        "outputId": "25c324dc-b0e6-4739-fc6f-02e9de8de10c"
      },
      "execution_count": null,
      "outputs": [
        {
          "name": "stdout",
          "output_type": "stream",
          "text": [
            "type of your program (min or max): max\n"
          ]
        }
      ]
    },
    {
      "cell_type": "code",
      "source": [
        "number_of_Constraints = int(input('Enter the number of Constraints: '))\n",
        "A = [[int(input('value of x{}. in {}. constraint: '.format(x +1, c+1)))for x in range(len(z))]for c in range(number_of_Constraints)]\n",
        "\n",
        "print(A)"
      ],
      "metadata": {
        "colab": {
          "base_uri": "https://localhost:8080/"
        },
        "id": "tUDrk5NLk3Kb",
        "outputId": "f6e02194-a07a-47c4-80e5-eed1c9345779"
      },
      "execution_count": null,
      "outputs": [
        {
          "output_type": "stream",
          "name": "stdout",
          "text": [
            "Enter the number of Constraints: 2\n",
            "value of x1. in 1. constraint: 1\n",
            "value of x2. in 1. constraint: -2\n",
            "value of x3. in 1. constraint: 1\n",
            "value of x1. in 2. constraint: 2\n",
            "value of x2. in 2. constraint: 0\n",
            "value of x3. in 2. constraint: 3\n",
            "[[1, -2, 1], [2, 0, 3]]\n"
          ]
        }
      ]
    },
    {
      "cell_type": "code",
      "source": [
        "Draws = [input('please Enter the {}.constraint Draw in order (= or >= or <=)'.format(i+1)) for i in range(number_of_Constraints)]\n",
        "print(Draws)"
      ],
      "metadata": {
        "id": "q8lyBtPkxPjm",
        "colab": {
          "base_uri": "https://localhost:8080/"
        },
        "outputId": "d84aea06-b80d-4973-a2d7-2d2fdcf4e2d0"
      },
      "execution_count": null,
      "outputs": [
        {
          "output_type": "stream",
          "name": "stdout",
          "text": [
            "please Enter the 1.constraint Draw in order (= or >= or <=)<=\n",
            "please Enter the 2.constraint Draw in order (= or >= or <=)<=\n",
            "['<=', '<=']\n"
          ]
        }
      ]
    },
    {
      "cell_type": "code",
      "source": [
        "RightHandSide = [int(input('Enter the Right Hand Side {}. element in order : '.format(i+1))) for i in range(number_of_Constraints)]\n",
        "print(RightHandSide)"
      ],
      "metadata": {
        "colab": {
          "base_uri": "https://localhost:8080/"
        },
        "id": "1srJIcugrOEq",
        "outputId": "d3e270b9-208c-4393-baf6-baa5d0a741c0"
      },
      "execution_count": null,
      "outputs": [
        {
          "output_type": "stream",
          "name": "stdout",
          "text": [
            "Enter the Right Hand Side 1. element in order : 4\n",
            "Enter the Right Hand Side 2. element in order : 2\n",
            "[4, 2]\n"
          ]
        }
      ]
    },
    {
      "cell_type": "markdown",
      "source": [
        "Now we have to know what variables are free to sign!"
      ],
      "metadata": {
        "id": "mQVOffDovNqL"
      }
    },
    {
      "cell_type": "code",
      "source": [
        "free_to_sign = [input('x{}. is free to sign >=0 or <=0? (F for free to sign , g for >=0 and l for <=0): '.format(i+1)) for i in range(len(z))]\n",
        "print(free_to_sign)"
      ],
      "metadata": {
        "colab": {
          "base_uri": "https://localhost:8080/"
        },
        "id": "1LlBuxyasw27",
        "outputId": "87da5ae8-a43a-4f15-cb06-71b8e9a5ec72"
      },
      "execution_count": null,
      "outputs": [
        {
          "output_type": "stream",
          "name": "stdout",
          "text": [
            "x1. is free to sign >=0 or <=0? (F for free to sign , g for >=0 and l for <=0): g\n",
            "x2. is free to sign >=0 or <=0? (F for free to sign , g for >=0 and l for <=0): g\n",
            "x3. is free to sign >=0 or <=0? (F for free to sign , g for >=0 and l for <=0): g\n",
            "['g', 'g', 'g']\n"
          ]
        }
      ]
    },
    {
      "cell_type": "markdown",
      "source": [
        "# after that, we can calculate the Dual form"
      ],
      "metadata": {
        "id": "gjchO3Kkw_gO"
      }
    },
    {
      "cell_type": "code",
      "source": [
        "if m == 'min':\n",
        "  m_prime = 'max'\n",
        "else:\n",
        "  m_prime = 'min'"
      ],
      "metadata": {
        "id": "Gzlblgc1LS44"
      },
      "execution_count": null,
      "outputs": []
    },
    {
      "cell_type": "code",
      "source": [
        "z_prime = ['y{}'.format(i+1) for i in range(len(RightHandSide))]\n",
        "print(z_prime)"
      ],
      "metadata": {
        "colab": {
          "base_uri": "https://localhost:8080/"
        },
        "id": "0V0TA2XgwJqg",
        "outputId": "ff53f9a6-59f0-40e2-913b-8ee738d6a0da"
      },
      "execution_count": null,
      "outputs": [
        {
          "output_type": "stream",
          "name": "stdout",
          "text": [
            "['y1', 'y2']\n"
          ]
        }
      ]
    },
    {
      "cell_type": "code",
      "source": [
        "RightHandSide_prime = z\n",
        "print(RightHandSide_prime)"
      ],
      "metadata": {
        "colab": {
          "base_uri": "https://localhost:8080/"
        },
        "id": "HLryahsYz0dz",
        "outputId": "638995f0-3e73-4394-b672-fd2631c54ed0"
      },
      "execution_count": null,
      "outputs": [
        {
          "output_type": "stream",
          "name": "stdout",
          "text": [
            "['2', '-3', '4']\n"
          ]
        }
      ]
    },
    {
      "cell_type": "code",
      "source": [
        "z_prime_coefficients = RightHandSide\n",
        "print(z_prime_coefficients)\n",
        "\n",
        "join = []\n",
        "for i in range(len(z_prime)):\n",
        "  l = str(z_prime_coefficients[i]) + z_prime[i]\n",
        "  join.append(l)"
      ],
      "metadata": {
        "colab": {
          "base_uri": "https://localhost:8080/"
        },
        "id": "Fu47RZmu0yOJ",
        "outputId": "ed5c12f3-dc0a-4dba-e47e-92b174b5a8e1"
      },
      "execution_count": null,
      "outputs": [
        {
          "output_type": "stream",
          "name": "stdout",
          "text": [
            "[4, 2]\n"
          ]
        }
      ]
    },
    {
      "cell_type": "code",
      "source": [
        "A_prime = [[A[j][i] for j in range(number_of_Constraints)] for i in range(len(z))]\n",
        "print(A_prime)"
      ],
      "metadata": {
        "colab": {
          "base_uri": "https://localhost:8080/"
        },
        "id": "rRSHs7uq1Ew7",
        "outputId": "35e89a0e-08d8-4ea5-9202-57aa17e7b191"
      },
      "execution_count": null,
      "outputs": [
        {
          "output_type": "stream",
          "name": "stdout",
          "text": [
            "[[1, 2], [-2, 0], [1, 3]]\n"
          ]
        }
      ]
    },
    {
      "cell_type": "code",
      "source": [
        "Draws_prime = []\n",
        "for i in range(len(z)):\n",
        "  if free_to_sign[i] == 'F':\n",
        "    Draws_prime.append('=')\n",
        "  elif free_to_sign[i] == 'g' and m == 'min':\n",
        "    Draws_prime.append('>=')\n",
        "  elif free_to_sign[i] == 'l' and m == 'max':\n",
        "    Draws_prime.append('<=')\n",
        "  elif free_to_sign[i] == 'g' and m == 'max':\n",
        "    Draws_prime.append('<=')\n",
        "  elif free_to_sign[i] == 'l' and m == 'min':\n",
        "    Draws_prime.append('>=')\n",
        "print(Draws_prime)"
      ],
      "metadata": {
        "colab": {
          "base_uri": "https://localhost:8080/"
        },
        "id": "qKliv5oc19dT",
        "outputId": "b23800d9-cc04-49ee-9f2c-97cd9930aeda"
      },
      "execution_count": null,
      "outputs": [
        {
          "output_type": "stream",
          "name": "stdout",
          "text": [
            "['<=', '<=', '<=']\n"
          ]
        }
      ]
    },
    {
      "cell_type": "code",
      "source": [
        "free_to_sign_prime = []\n",
        "for i in range (len(Draws)):\n",
        "  if Draws[i] == '=':\n",
        "    free_to_sign_prime.append('y{}. is free to sign'.format(i+1))\n",
        "  elif (Draws[i] == '>=' and m == 'min') or (Draws[i] == '<=' and m == 'max'):\n",
        "    free_to_sign_prime.append('y{}. >= 0'.format(i+1))\n",
        "  else:\n",
        "    free_to_sign_prime.append('y{}. <= 0'.format(i+1))\n"
      ],
      "metadata": {
        "id": "62C_UkQH4S5V"
      },
      "execution_count": null,
      "outputs": []
    },
    {
      "cell_type": "markdown",
      "source": [
        "# Now print the result"
      ],
      "metadata": {
        "id": "SuVgpPgdKrYf"
      }
    },
    {
      "cell_type": "code",
      "source": [
        "print(m_prime)\n",
        "print('z = ', end=\"\")\n",
        "for i in range(len(join)):\n",
        "  print('(' + join[i] +')', end=\"\")\n",
        "  if i != len(join) - 1:\n",
        "    print(' + ',end=\"\")\n",
        "  else:\n",
        "    print(\"\")\n",
        "\n",
        "print('''\n",
        "subject to:\n",
        "      ''')\n",
        "for i in range(len(z)):\n",
        "\n",
        "  for j in range(len(z_prime)):\n",
        "    print('(' + str(A_prime[i][j]) + z_prime[j] + ') ', end=\"\")\n",
        "    if j != len(z_prime) - 1:\n",
        "      print('+ ', end=\"\")\n",
        "\n",
        "  print(Draws_prime[i], end=\" \")\n",
        "  print(RightHandSide_prime[i])\n",
        "\n",
        "print('')\n",
        "for i in range(len(z_prime)):\n",
        "  print(free_to_sign_prime[i])"
      ],
      "metadata": {
        "colab": {
          "base_uri": "https://localhost:8080/"
        },
        "id": "DT9Z4RQxJrgU",
        "outputId": "8266f3fe-02c0-4998-9562-25d394a84b1c"
      },
      "execution_count": null,
      "outputs": [
        {
          "output_type": "stream",
          "name": "stdout",
          "text": [
            "min\n",
            "z = (4y1) + (2y2)\n",
            "\n",
            "subject to:  \n",
            "      \n",
            "(1y1) + (2y2) <= 2\n",
            "(-2y1) + (0y2) <= -3\n",
            "(1y1) + (3y2) <= 4\n",
            "\n",
            "y1. >= 0\n",
            "y2. >= 0\n"
          ]
        }
      ]
    },
    {
      "cell_type": "code",
      "source": [],
      "metadata": {
        "id": "CeKBYQUhehMl"
      },
      "execution_count": null,
      "outputs": []
    }
  ]
}